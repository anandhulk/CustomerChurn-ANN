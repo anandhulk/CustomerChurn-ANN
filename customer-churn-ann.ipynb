{
 "cells": [
  {
   "cell_type": "code",
   "execution_count": 1,
   "id": "07c87e7b",
   "metadata": {
    "_cell_guid": "b1076dfc-b9ad-4769-8c92-a6c4dae69d19",
    "_uuid": "8f2839f25d086af736a60e9eeb907d3b93b6e0e5",
    "execution": {
     "iopub.execute_input": "2022-08-05T10:28:25.574589Z",
     "iopub.status.busy": "2022-08-05T10:28:25.573257Z",
     "iopub.status.idle": "2022-08-05T10:28:25.593702Z",
     "shell.execute_reply": "2022-08-05T10:28:25.592059Z"
    },
    "papermill": {
     "duration": 0.040301,
     "end_time": "2022-08-05T10:28:25.596769",
     "exception": false,
     "start_time": "2022-08-05T10:28:25.556468",
     "status": "completed"
    },
    "tags": []
   },
   "outputs": [],
   "source": [
    "# This Python 3 environment comes with many helpful analytics libraries installed\n",
    "# It is defined by the kaggle/python Docker image: https://github.com/kaggle/docker-python\n",
    "# For example, here's several helpful packages to load\n",
    "\n",
    "import numpy as np # linear algebra\n",
    "import pandas as pd # data processing, CSV file I/O (e.g. pd.read_csv)\n",
    "import matplotlib.pyplot as plt\n",
    "# Input data files are available in the read-only \"../input/\" directory\n",
    "# For example, running this (by clicking run or pressing Shift+Enter) will list all files under the input directory\n",
    "\n",
    "import os\n",
    "for dirname, _, filenames in os.walk('../input/telco-customer-churn/WA_Fn-UseC_-Telco-Customer-Churn.csv'):\n",
    "    for filename in filenames:\n",
    "        print(os.path.join(dirname, filename))\n",
    "\n",
    "# You can write up to 20GB to the current directory (/kaggle/working/) that gets preserved as output when you create a version using \"Save & Run All\" \n",
    "# You can also write temporary files to /kaggle/temp/, but they won't be saved outside of the current session"
   ]
  },
  {
   "cell_type": "code",
   "execution_count": 2,
   "id": "12e75522",
   "metadata": {
    "execution": {
     "iopub.execute_input": "2022-08-05T10:28:25.627417Z",
     "iopub.status.busy": "2022-08-05T10:28:25.626925Z",
     "iopub.status.idle": "2022-08-05T10:28:31.239377Z",
     "shell.execute_reply": "2022-08-05T10:28:31.238199Z"
    },
    "papermill": {
     "duration": 5.631153,
     "end_time": "2022-08-05T10:28:31.242318",
     "exception": false,
     "start_time": "2022-08-05T10:28:25.611165",
     "status": "completed"
    },
    "tags": []
   },
   "outputs": [],
   "source": [
    "import tensorflow as tf\n",
    "from tensorflow import keras"
   ]
  },
  {
   "cell_type": "code",
   "execution_count": 3,
   "id": "539cdf62",
   "metadata": {
    "execution": {
     "iopub.execute_input": "2022-08-05T10:28:31.273738Z",
     "iopub.status.busy": "2022-08-05T10:28:31.272414Z",
     "iopub.status.idle": "2022-08-05T10:28:31.378330Z",
     "shell.execute_reply": "2022-08-05T10:28:31.376903Z"
    },
    "papermill": {
     "duration": 0.126799,
     "end_time": "2022-08-05T10:28:31.382566",
     "exception": false,
     "start_time": "2022-08-05T10:28:31.255767",
     "status": "completed"
    },
    "tags": []
   },
   "outputs": [
    {
     "data": {
      "text/html": [
       "<div>\n",
       "<style scoped>\n",
       "    .dataframe tbody tr th:only-of-type {\n",
       "        vertical-align: middle;\n",
       "    }\n",
       "\n",
       "    .dataframe tbody tr th {\n",
       "        vertical-align: top;\n",
       "    }\n",
       "\n",
       "    .dataframe thead th {\n",
       "        text-align: right;\n",
       "    }\n",
       "</style>\n",
       "<table border=\"1\" class=\"dataframe\">\n",
       "  <thead>\n",
       "    <tr style=\"text-align: right;\">\n",
       "      <th></th>\n",
       "      <th>customerID</th>\n",
       "      <th>gender</th>\n",
       "      <th>SeniorCitizen</th>\n",
       "      <th>Partner</th>\n",
       "      <th>Dependents</th>\n",
       "      <th>tenure</th>\n",
       "      <th>PhoneService</th>\n",
       "      <th>MultipleLines</th>\n",
       "      <th>InternetService</th>\n",
       "      <th>OnlineSecurity</th>\n",
       "      <th>...</th>\n",
       "      <th>DeviceProtection</th>\n",
       "      <th>TechSupport</th>\n",
       "      <th>StreamingTV</th>\n",
       "      <th>StreamingMovies</th>\n",
       "      <th>Contract</th>\n",
       "      <th>PaperlessBilling</th>\n",
       "      <th>PaymentMethod</th>\n",
       "      <th>MonthlyCharges</th>\n",
       "      <th>TotalCharges</th>\n",
       "      <th>Churn</th>\n",
       "    </tr>\n",
       "  </thead>\n",
       "  <tbody>\n",
       "    <tr>\n",
       "      <th>0</th>\n",
       "      <td>7590-VHVEG</td>\n",
       "      <td>Female</td>\n",
       "      <td>0</td>\n",
       "      <td>Yes</td>\n",
       "      <td>No</td>\n",
       "      <td>1</td>\n",
       "      <td>No</td>\n",
       "      <td>No phone service</td>\n",
       "      <td>DSL</td>\n",
       "      <td>No</td>\n",
       "      <td>...</td>\n",
       "      <td>No</td>\n",
       "      <td>No</td>\n",
       "      <td>No</td>\n",
       "      <td>No</td>\n",
       "      <td>Month-to-month</td>\n",
       "      <td>Yes</td>\n",
       "      <td>Electronic check</td>\n",
       "      <td>29.85</td>\n",
       "      <td>29.85</td>\n",
       "      <td>No</td>\n",
       "    </tr>\n",
       "    <tr>\n",
       "      <th>1</th>\n",
       "      <td>5575-GNVDE</td>\n",
       "      <td>Male</td>\n",
       "      <td>0</td>\n",
       "      <td>No</td>\n",
       "      <td>No</td>\n",
       "      <td>34</td>\n",
       "      <td>Yes</td>\n",
       "      <td>No</td>\n",
       "      <td>DSL</td>\n",
       "      <td>Yes</td>\n",
       "      <td>...</td>\n",
       "      <td>Yes</td>\n",
       "      <td>No</td>\n",
       "      <td>No</td>\n",
       "      <td>No</td>\n",
       "      <td>One year</td>\n",
       "      <td>No</td>\n",
       "      <td>Mailed check</td>\n",
       "      <td>56.95</td>\n",
       "      <td>1889.5</td>\n",
       "      <td>No</td>\n",
       "    </tr>\n",
       "    <tr>\n",
       "      <th>2</th>\n",
       "      <td>3668-QPYBK</td>\n",
       "      <td>Male</td>\n",
       "      <td>0</td>\n",
       "      <td>No</td>\n",
       "      <td>No</td>\n",
       "      <td>2</td>\n",
       "      <td>Yes</td>\n",
       "      <td>No</td>\n",
       "      <td>DSL</td>\n",
       "      <td>Yes</td>\n",
       "      <td>...</td>\n",
       "      <td>No</td>\n",
       "      <td>No</td>\n",
       "      <td>No</td>\n",
       "      <td>No</td>\n",
       "      <td>Month-to-month</td>\n",
       "      <td>Yes</td>\n",
       "      <td>Mailed check</td>\n",
       "      <td>53.85</td>\n",
       "      <td>108.15</td>\n",
       "      <td>Yes</td>\n",
       "    </tr>\n",
       "    <tr>\n",
       "      <th>3</th>\n",
       "      <td>7795-CFOCW</td>\n",
       "      <td>Male</td>\n",
       "      <td>0</td>\n",
       "      <td>No</td>\n",
       "      <td>No</td>\n",
       "      <td>45</td>\n",
       "      <td>No</td>\n",
       "      <td>No phone service</td>\n",
       "      <td>DSL</td>\n",
       "      <td>Yes</td>\n",
       "      <td>...</td>\n",
       "      <td>Yes</td>\n",
       "      <td>Yes</td>\n",
       "      <td>No</td>\n",
       "      <td>No</td>\n",
       "      <td>One year</td>\n",
       "      <td>No</td>\n",
       "      <td>Bank transfer (automatic)</td>\n",
       "      <td>42.30</td>\n",
       "      <td>1840.75</td>\n",
       "      <td>No</td>\n",
       "    </tr>\n",
       "    <tr>\n",
       "      <th>4</th>\n",
       "      <td>9237-HQITU</td>\n",
       "      <td>Female</td>\n",
       "      <td>0</td>\n",
       "      <td>No</td>\n",
       "      <td>No</td>\n",
       "      <td>2</td>\n",
       "      <td>Yes</td>\n",
       "      <td>No</td>\n",
       "      <td>Fiber optic</td>\n",
       "      <td>No</td>\n",
       "      <td>...</td>\n",
       "      <td>No</td>\n",
       "      <td>No</td>\n",
       "      <td>No</td>\n",
       "      <td>No</td>\n",
       "      <td>Month-to-month</td>\n",
       "      <td>Yes</td>\n",
       "      <td>Electronic check</td>\n",
       "      <td>70.70</td>\n",
       "      <td>151.65</td>\n",
       "      <td>Yes</td>\n",
       "    </tr>\n",
       "    <tr>\n",
       "      <th>...</th>\n",
       "      <td>...</td>\n",
       "      <td>...</td>\n",
       "      <td>...</td>\n",
       "      <td>...</td>\n",
       "      <td>...</td>\n",
       "      <td>...</td>\n",
       "      <td>...</td>\n",
       "      <td>...</td>\n",
       "      <td>...</td>\n",
       "      <td>...</td>\n",
       "      <td>...</td>\n",
       "      <td>...</td>\n",
       "      <td>...</td>\n",
       "      <td>...</td>\n",
       "      <td>...</td>\n",
       "      <td>...</td>\n",
       "      <td>...</td>\n",
       "      <td>...</td>\n",
       "      <td>...</td>\n",
       "      <td>...</td>\n",
       "      <td>...</td>\n",
       "    </tr>\n",
       "    <tr>\n",
       "      <th>7038</th>\n",
       "      <td>6840-RESVB</td>\n",
       "      <td>Male</td>\n",
       "      <td>0</td>\n",
       "      <td>Yes</td>\n",
       "      <td>Yes</td>\n",
       "      <td>24</td>\n",
       "      <td>Yes</td>\n",
       "      <td>Yes</td>\n",
       "      <td>DSL</td>\n",
       "      <td>Yes</td>\n",
       "      <td>...</td>\n",
       "      <td>Yes</td>\n",
       "      <td>Yes</td>\n",
       "      <td>Yes</td>\n",
       "      <td>Yes</td>\n",
       "      <td>One year</td>\n",
       "      <td>Yes</td>\n",
       "      <td>Mailed check</td>\n",
       "      <td>84.80</td>\n",
       "      <td>1990.5</td>\n",
       "      <td>No</td>\n",
       "    </tr>\n",
       "    <tr>\n",
       "      <th>7039</th>\n",
       "      <td>2234-XADUH</td>\n",
       "      <td>Female</td>\n",
       "      <td>0</td>\n",
       "      <td>Yes</td>\n",
       "      <td>Yes</td>\n",
       "      <td>72</td>\n",
       "      <td>Yes</td>\n",
       "      <td>Yes</td>\n",
       "      <td>Fiber optic</td>\n",
       "      <td>No</td>\n",
       "      <td>...</td>\n",
       "      <td>Yes</td>\n",
       "      <td>No</td>\n",
       "      <td>Yes</td>\n",
       "      <td>Yes</td>\n",
       "      <td>One year</td>\n",
       "      <td>Yes</td>\n",
       "      <td>Credit card (automatic)</td>\n",
       "      <td>103.20</td>\n",
       "      <td>7362.9</td>\n",
       "      <td>No</td>\n",
       "    </tr>\n",
       "    <tr>\n",
       "      <th>7040</th>\n",
       "      <td>4801-JZAZL</td>\n",
       "      <td>Female</td>\n",
       "      <td>0</td>\n",
       "      <td>Yes</td>\n",
       "      <td>Yes</td>\n",
       "      <td>11</td>\n",
       "      <td>No</td>\n",
       "      <td>No phone service</td>\n",
       "      <td>DSL</td>\n",
       "      <td>Yes</td>\n",
       "      <td>...</td>\n",
       "      <td>No</td>\n",
       "      <td>No</td>\n",
       "      <td>No</td>\n",
       "      <td>No</td>\n",
       "      <td>Month-to-month</td>\n",
       "      <td>Yes</td>\n",
       "      <td>Electronic check</td>\n",
       "      <td>29.60</td>\n",
       "      <td>346.45</td>\n",
       "      <td>No</td>\n",
       "    </tr>\n",
       "    <tr>\n",
       "      <th>7041</th>\n",
       "      <td>8361-LTMKD</td>\n",
       "      <td>Male</td>\n",
       "      <td>1</td>\n",
       "      <td>Yes</td>\n",
       "      <td>No</td>\n",
       "      <td>4</td>\n",
       "      <td>Yes</td>\n",
       "      <td>Yes</td>\n",
       "      <td>Fiber optic</td>\n",
       "      <td>No</td>\n",
       "      <td>...</td>\n",
       "      <td>No</td>\n",
       "      <td>No</td>\n",
       "      <td>No</td>\n",
       "      <td>No</td>\n",
       "      <td>Month-to-month</td>\n",
       "      <td>Yes</td>\n",
       "      <td>Mailed check</td>\n",
       "      <td>74.40</td>\n",
       "      <td>306.6</td>\n",
       "      <td>Yes</td>\n",
       "    </tr>\n",
       "    <tr>\n",
       "      <th>7042</th>\n",
       "      <td>3186-AJIEK</td>\n",
       "      <td>Male</td>\n",
       "      <td>0</td>\n",
       "      <td>No</td>\n",
       "      <td>No</td>\n",
       "      <td>66</td>\n",
       "      <td>Yes</td>\n",
       "      <td>No</td>\n",
       "      <td>Fiber optic</td>\n",
       "      <td>Yes</td>\n",
       "      <td>...</td>\n",
       "      <td>Yes</td>\n",
       "      <td>Yes</td>\n",
       "      <td>Yes</td>\n",
       "      <td>Yes</td>\n",
       "      <td>Two year</td>\n",
       "      <td>Yes</td>\n",
       "      <td>Bank transfer (automatic)</td>\n",
       "      <td>105.65</td>\n",
       "      <td>6844.5</td>\n",
       "      <td>No</td>\n",
       "    </tr>\n",
       "  </tbody>\n",
       "</table>\n",
       "<p>7043 rows × 21 columns</p>\n",
       "</div>"
      ],
      "text/plain": [
       "      customerID  gender  SeniorCitizen Partner Dependents  tenure  \\\n",
       "0     7590-VHVEG  Female              0     Yes         No       1   \n",
       "1     5575-GNVDE    Male              0      No         No      34   \n",
       "2     3668-QPYBK    Male              0      No         No       2   \n",
       "3     7795-CFOCW    Male              0      No         No      45   \n",
       "4     9237-HQITU  Female              0      No         No       2   \n",
       "...          ...     ...            ...     ...        ...     ...   \n",
       "7038  6840-RESVB    Male              0     Yes        Yes      24   \n",
       "7039  2234-XADUH  Female              0     Yes        Yes      72   \n",
       "7040  4801-JZAZL  Female              0     Yes        Yes      11   \n",
       "7041  8361-LTMKD    Male              1     Yes         No       4   \n",
       "7042  3186-AJIEK    Male              0      No         No      66   \n",
       "\n",
       "     PhoneService     MultipleLines InternetService OnlineSecurity  ...  \\\n",
       "0              No  No phone service             DSL             No  ...   \n",
       "1             Yes                No             DSL            Yes  ...   \n",
       "2             Yes                No             DSL            Yes  ...   \n",
       "3              No  No phone service             DSL            Yes  ...   \n",
       "4             Yes                No     Fiber optic             No  ...   \n",
       "...           ...               ...             ...            ...  ...   \n",
       "7038          Yes               Yes             DSL            Yes  ...   \n",
       "7039          Yes               Yes     Fiber optic             No  ...   \n",
       "7040           No  No phone service             DSL            Yes  ...   \n",
       "7041          Yes               Yes     Fiber optic             No  ...   \n",
       "7042          Yes                No     Fiber optic            Yes  ...   \n",
       "\n",
       "     DeviceProtection TechSupport StreamingTV StreamingMovies        Contract  \\\n",
       "0                  No          No          No              No  Month-to-month   \n",
       "1                 Yes          No          No              No        One year   \n",
       "2                  No          No          No              No  Month-to-month   \n",
       "3                 Yes         Yes          No              No        One year   \n",
       "4                  No          No          No              No  Month-to-month   \n",
       "...               ...         ...         ...             ...             ...   \n",
       "7038              Yes         Yes         Yes             Yes        One year   \n",
       "7039              Yes          No         Yes             Yes        One year   \n",
       "7040               No          No          No              No  Month-to-month   \n",
       "7041               No          No          No              No  Month-to-month   \n",
       "7042              Yes         Yes         Yes             Yes        Two year   \n",
       "\n",
       "     PaperlessBilling              PaymentMethod MonthlyCharges  TotalCharges  \\\n",
       "0                 Yes           Electronic check          29.85         29.85   \n",
       "1                  No               Mailed check          56.95        1889.5   \n",
       "2                 Yes               Mailed check          53.85        108.15   \n",
       "3                  No  Bank transfer (automatic)          42.30       1840.75   \n",
       "4                 Yes           Electronic check          70.70        151.65   \n",
       "...               ...                        ...            ...           ...   \n",
       "7038              Yes               Mailed check          84.80        1990.5   \n",
       "7039              Yes    Credit card (automatic)         103.20        7362.9   \n",
       "7040              Yes           Electronic check          29.60        346.45   \n",
       "7041              Yes               Mailed check          74.40         306.6   \n",
       "7042              Yes  Bank transfer (automatic)         105.65        6844.5   \n",
       "\n",
       "     Churn  \n",
       "0       No  \n",
       "1       No  \n",
       "2      Yes  \n",
       "3       No  \n",
       "4      Yes  \n",
       "...    ...  \n",
       "7038    No  \n",
       "7039    No  \n",
       "7040    No  \n",
       "7041   Yes  \n",
       "7042    No  \n",
       "\n",
       "[7043 rows x 21 columns]"
      ]
     },
     "execution_count": 3,
     "metadata": {},
     "output_type": "execute_result"
    }
   ],
   "source": [
    "df=pd.read_csv(\"../input/telco-customer-churn/WA_Fn-UseC_-Telco-Customer-Churn.csv\")\n",
    "df"
   ]
  },
  {
   "cell_type": "code",
   "execution_count": 4,
   "id": "e25a419b",
   "metadata": {
    "execution": {
     "iopub.execute_input": "2022-08-05T10:28:31.413523Z",
     "iopub.status.busy": "2022-08-05T10:28:31.413102Z",
     "iopub.status.idle": "2022-08-05T10:28:31.443888Z",
     "shell.execute_reply": "2022-08-05T10:28:31.442893Z"
    },
    "papermill": {
     "duration": 0.049802,
     "end_time": "2022-08-05T10:28:31.447033",
     "exception": false,
     "start_time": "2022-08-05T10:28:31.397231",
     "status": "completed"
    },
    "tags": []
   },
   "outputs": [
    {
     "name": "stdout",
     "output_type": "stream",
     "text": [
      "<class 'pandas.core.frame.DataFrame'>\n",
      "RangeIndex: 7043 entries, 0 to 7042\n",
      "Data columns (total 21 columns):\n",
      " #   Column            Non-Null Count  Dtype  \n",
      "---  ------            --------------  -----  \n",
      " 0   customerID        7043 non-null   object \n",
      " 1   gender            7043 non-null   object \n",
      " 2   SeniorCitizen     7043 non-null   int64  \n",
      " 3   Partner           7043 non-null   object \n",
      " 4   Dependents        7043 non-null   object \n",
      " 5   tenure            7043 non-null   int64  \n",
      " 6   PhoneService      7043 non-null   object \n",
      " 7   MultipleLines     7043 non-null   object \n",
      " 8   InternetService   7043 non-null   object \n",
      " 9   OnlineSecurity    7043 non-null   object \n",
      " 10  OnlineBackup      7043 non-null   object \n",
      " 11  DeviceProtection  7043 non-null   object \n",
      " 12  TechSupport       7043 non-null   object \n",
      " 13  StreamingTV       7043 non-null   object \n",
      " 14  StreamingMovies   7043 non-null   object \n",
      " 15  Contract          7043 non-null   object \n",
      " 16  PaperlessBilling  7043 non-null   object \n",
      " 17  PaymentMethod     7043 non-null   object \n",
      " 18  MonthlyCharges    7043 non-null   float64\n",
      " 19  TotalCharges      7043 non-null   object \n",
      " 20  Churn             7043 non-null   object \n",
      "dtypes: float64(1), int64(2), object(18)\n",
      "memory usage: 1.1+ MB\n"
     ]
    }
   ],
   "source": [
    "df.info()"
   ]
  },
  {
   "cell_type": "code",
   "execution_count": 5,
   "id": "99f20fe1",
   "metadata": {
    "execution": {
     "iopub.execute_input": "2022-08-05T10:28:31.477920Z",
     "iopub.status.busy": "2022-08-05T10:28:31.477460Z",
     "iopub.status.idle": "2022-08-05T10:28:31.485816Z",
     "shell.execute_reply": "2022-08-05T10:28:31.484456Z"
    },
    "papermill": {
     "duration": 0.026827,
     "end_time": "2022-08-05T10:28:31.488427",
     "exception": false,
     "start_time": "2022-08-05T10:28:31.461600",
     "status": "completed"
    },
    "tags": []
   },
   "outputs": [
    {
     "data": {
      "text/plain": [
       "array(['29.85', '1889.5', '108.15', ..., '346.45', '306.6', '6844.5'],\n",
       "      dtype=object)"
      ]
     },
     "execution_count": 5,
     "metadata": {},
     "output_type": "execute_result"
    }
   ],
   "source": [
    "df[\"TotalCharges\"].values"
   ]
  },
  {
   "cell_type": "code",
   "execution_count": 6,
   "id": "2fca3215",
   "metadata": {
    "execution": {
     "iopub.execute_input": "2022-08-05T10:28:31.517905Z",
     "iopub.status.busy": "2022-08-05T10:28:31.517442Z",
     "iopub.status.idle": "2022-08-05T10:28:31.525755Z",
     "shell.execute_reply": "2022-08-05T10:28:31.524523Z"
    },
    "papermill": {
     "duration": 0.025973,
     "end_time": "2022-08-05T10:28:31.528042",
     "exception": false,
     "start_time": "2022-08-05T10:28:31.502069",
     "status": "completed"
    },
    "tags": []
   },
   "outputs": [],
   "source": [
    "df.drop(\"customerID\",axis=1,inplace=True)"
   ]
  },
  {
   "cell_type": "code",
   "execution_count": 7,
   "id": "d913bf66",
   "metadata": {
    "execution": {
     "iopub.execute_input": "2022-08-05T10:28:31.557392Z",
     "iopub.status.busy": "2022-08-05T10:28:31.556908Z",
     "iopub.status.idle": "2022-08-05T10:28:31.589991Z",
     "shell.execute_reply": "2022-08-05T10:28:31.589019Z"
    },
    "papermill": {
     "duration": 0.050455,
     "end_time": "2022-08-05T10:28:31.592062",
     "exception": false,
     "start_time": "2022-08-05T10:28:31.541607",
     "status": "completed"
    },
    "tags": []
   },
   "outputs": [
    {
     "data": {
      "text/html": [
       "<div>\n",
       "<style scoped>\n",
       "    .dataframe tbody tr th:only-of-type {\n",
       "        vertical-align: middle;\n",
       "    }\n",
       "\n",
       "    .dataframe tbody tr th {\n",
       "        vertical-align: top;\n",
       "    }\n",
       "\n",
       "    .dataframe thead th {\n",
       "        text-align: right;\n",
       "    }\n",
       "</style>\n",
       "<table border=\"1\" class=\"dataframe\">\n",
       "  <thead>\n",
       "    <tr style=\"text-align: right;\">\n",
       "      <th></th>\n",
       "      <th>gender</th>\n",
       "      <th>SeniorCitizen</th>\n",
       "      <th>Partner</th>\n",
       "      <th>Dependents</th>\n",
       "      <th>tenure</th>\n",
       "      <th>PhoneService</th>\n",
       "      <th>MultipleLines</th>\n",
       "      <th>InternetService</th>\n",
       "      <th>OnlineSecurity</th>\n",
       "      <th>OnlineBackup</th>\n",
       "      <th>DeviceProtection</th>\n",
       "      <th>TechSupport</th>\n",
       "      <th>StreamingTV</th>\n",
       "      <th>StreamingMovies</th>\n",
       "      <th>Contract</th>\n",
       "      <th>PaperlessBilling</th>\n",
       "      <th>PaymentMethod</th>\n",
       "      <th>MonthlyCharges</th>\n",
       "      <th>TotalCharges</th>\n",
       "      <th>Churn</th>\n",
       "    </tr>\n",
       "  </thead>\n",
       "  <tbody>\n",
       "    <tr>\n",
       "      <th>488</th>\n",
       "      <td>Female</td>\n",
       "      <td>0</td>\n",
       "      <td>Yes</td>\n",
       "      <td>Yes</td>\n",
       "      <td>0</td>\n",
       "      <td>No</td>\n",
       "      <td>No phone service</td>\n",
       "      <td>DSL</td>\n",
       "      <td>Yes</td>\n",
       "      <td>No</td>\n",
       "      <td>Yes</td>\n",
       "      <td>Yes</td>\n",
       "      <td>Yes</td>\n",
       "      <td>No</td>\n",
       "      <td>Two year</td>\n",
       "      <td>Yes</td>\n",
       "      <td>Bank transfer (automatic)</td>\n",
       "      <td>52.55</td>\n",
       "      <td></td>\n",
       "      <td>No</td>\n",
       "    </tr>\n",
       "    <tr>\n",
       "      <th>753</th>\n",
       "      <td>Male</td>\n",
       "      <td>0</td>\n",
       "      <td>No</td>\n",
       "      <td>Yes</td>\n",
       "      <td>0</td>\n",
       "      <td>Yes</td>\n",
       "      <td>No</td>\n",
       "      <td>No</td>\n",
       "      <td>No internet service</td>\n",
       "      <td>No internet service</td>\n",
       "      <td>No internet service</td>\n",
       "      <td>No internet service</td>\n",
       "      <td>No internet service</td>\n",
       "      <td>No internet service</td>\n",
       "      <td>Two year</td>\n",
       "      <td>No</td>\n",
       "      <td>Mailed check</td>\n",
       "      <td>20.25</td>\n",
       "      <td></td>\n",
       "      <td>No</td>\n",
       "    </tr>\n",
       "    <tr>\n",
       "      <th>936</th>\n",
       "      <td>Female</td>\n",
       "      <td>0</td>\n",
       "      <td>Yes</td>\n",
       "      <td>Yes</td>\n",
       "      <td>0</td>\n",
       "      <td>Yes</td>\n",
       "      <td>No</td>\n",
       "      <td>DSL</td>\n",
       "      <td>Yes</td>\n",
       "      <td>Yes</td>\n",
       "      <td>Yes</td>\n",
       "      <td>No</td>\n",
       "      <td>Yes</td>\n",
       "      <td>Yes</td>\n",
       "      <td>Two year</td>\n",
       "      <td>No</td>\n",
       "      <td>Mailed check</td>\n",
       "      <td>80.85</td>\n",
       "      <td></td>\n",
       "      <td>No</td>\n",
       "    </tr>\n",
       "    <tr>\n",
       "      <th>1082</th>\n",
       "      <td>Male</td>\n",
       "      <td>0</td>\n",
       "      <td>Yes</td>\n",
       "      <td>Yes</td>\n",
       "      <td>0</td>\n",
       "      <td>Yes</td>\n",
       "      <td>Yes</td>\n",
       "      <td>No</td>\n",
       "      <td>No internet service</td>\n",
       "      <td>No internet service</td>\n",
       "      <td>No internet service</td>\n",
       "      <td>No internet service</td>\n",
       "      <td>No internet service</td>\n",
       "      <td>No internet service</td>\n",
       "      <td>Two year</td>\n",
       "      <td>No</td>\n",
       "      <td>Mailed check</td>\n",
       "      <td>25.75</td>\n",
       "      <td></td>\n",
       "      <td>No</td>\n",
       "    </tr>\n",
       "    <tr>\n",
       "      <th>1340</th>\n",
       "      <td>Female</td>\n",
       "      <td>0</td>\n",
       "      <td>Yes</td>\n",
       "      <td>Yes</td>\n",
       "      <td>0</td>\n",
       "      <td>No</td>\n",
       "      <td>No phone service</td>\n",
       "      <td>DSL</td>\n",
       "      <td>Yes</td>\n",
       "      <td>Yes</td>\n",
       "      <td>Yes</td>\n",
       "      <td>Yes</td>\n",
       "      <td>Yes</td>\n",
       "      <td>No</td>\n",
       "      <td>Two year</td>\n",
       "      <td>No</td>\n",
       "      <td>Credit card (automatic)</td>\n",
       "      <td>56.05</td>\n",
       "      <td></td>\n",
       "      <td>No</td>\n",
       "    </tr>\n",
       "    <tr>\n",
       "      <th>3331</th>\n",
       "      <td>Male</td>\n",
       "      <td>0</td>\n",
       "      <td>Yes</td>\n",
       "      <td>Yes</td>\n",
       "      <td>0</td>\n",
       "      <td>Yes</td>\n",
       "      <td>No</td>\n",
       "      <td>No</td>\n",
       "      <td>No internet service</td>\n",
       "      <td>No internet service</td>\n",
       "      <td>No internet service</td>\n",
       "      <td>No internet service</td>\n",
       "      <td>No internet service</td>\n",
       "      <td>No internet service</td>\n",
       "      <td>Two year</td>\n",
       "      <td>No</td>\n",
       "      <td>Mailed check</td>\n",
       "      <td>19.85</td>\n",
       "      <td></td>\n",
       "      <td>No</td>\n",
       "    </tr>\n",
       "    <tr>\n",
       "      <th>3826</th>\n",
       "      <td>Male</td>\n",
       "      <td>0</td>\n",
       "      <td>Yes</td>\n",
       "      <td>Yes</td>\n",
       "      <td>0</td>\n",
       "      <td>Yes</td>\n",
       "      <td>Yes</td>\n",
       "      <td>No</td>\n",
       "      <td>No internet service</td>\n",
       "      <td>No internet service</td>\n",
       "      <td>No internet service</td>\n",
       "      <td>No internet service</td>\n",
       "      <td>No internet service</td>\n",
       "      <td>No internet service</td>\n",
       "      <td>Two year</td>\n",
       "      <td>No</td>\n",
       "      <td>Mailed check</td>\n",
       "      <td>25.35</td>\n",
       "      <td></td>\n",
       "      <td>No</td>\n",
       "    </tr>\n",
       "    <tr>\n",
       "      <th>4380</th>\n",
       "      <td>Female</td>\n",
       "      <td>0</td>\n",
       "      <td>Yes</td>\n",
       "      <td>Yes</td>\n",
       "      <td>0</td>\n",
       "      <td>Yes</td>\n",
       "      <td>No</td>\n",
       "      <td>No</td>\n",
       "      <td>No internet service</td>\n",
       "      <td>No internet service</td>\n",
       "      <td>No internet service</td>\n",
       "      <td>No internet service</td>\n",
       "      <td>No internet service</td>\n",
       "      <td>No internet service</td>\n",
       "      <td>Two year</td>\n",
       "      <td>No</td>\n",
       "      <td>Mailed check</td>\n",
       "      <td>20.00</td>\n",
       "      <td></td>\n",
       "      <td>No</td>\n",
       "    </tr>\n",
       "    <tr>\n",
       "      <th>5218</th>\n",
       "      <td>Male</td>\n",
       "      <td>0</td>\n",
       "      <td>Yes</td>\n",
       "      <td>Yes</td>\n",
       "      <td>0</td>\n",
       "      <td>Yes</td>\n",
       "      <td>No</td>\n",
       "      <td>No</td>\n",
       "      <td>No internet service</td>\n",
       "      <td>No internet service</td>\n",
       "      <td>No internet service</td>\n",
       "      <td>No internet service</td>\n",
       "      <td>No internet service</td>\n",
       "      <td>No internet service</td>\n",
       "      <td>One year</td>\n",
       "      <td>Yes</td>\n",
       "      <td>Mailed check</td>\n",
       "      <td>19.70</td>\n",
       "      <td></td>\n",
       "      <td>No</td>\n",
       "    </tr>\n",
       "    <tr>\n",
       "      <th>6670</th>\n",
       "      <td>Female</td>\n",
       "      <td>0</td>\n",
       "      <td>Yes</td>\n",
       "      <td>Yes</td>\n",
       "      <td>0</td>\n",
       "      <td>Yes</td>\n",
       "      <td>Yes</td>\n",
       "      <td>DSL</td>\n",
       "      <td>No</td>\n",
       "      <td>Yes</td>\n",
       "      <td>Yes</td>\n",
       "      <td>Yes</td>\n",
       "      <td>Yes</td>\n",
       "      <td>No</td>\n",
       "      <td>Two year</td>\n",
       "      <td>No</td>\n",
       "      <td>Mailed check</td>\n",
       "      <td>73.35</td>\n",
       "      <td></td>\n",
       "      <td>No</td>\n",
       "    </tr>\n",
       "    <tr>\n",
       "      <th>6754</th>\n",
       "      <td>Male</td>\n",
       "      <td>0</td>\n",
       "      <td>No</td>\n",
       "      <td>Yes</td>\n",
       "      <td>0</td>\n",
       "      <td>Yes</td>\n",
       "      <td>Yes</td>\n",
       "      <td>DSL</td>\n",
       "      <td>Yes</td>\n",
       "      <td>Yes</td>\n",
       "      <td>No</td>\n",
       "      <td>Yes</td>\n",
       "      <td>No</td>\n",
       "      <td>No</td>\n",
       "      <td>Two year</td>\n",
       "      <td>Yes</td>\n",
       "      <td>Bank transfer (automatic)</td>\n",
       "      <td>61.90</td>\n",
       "      <td></td>\n",
       "      <td>No</td>\n",
       "    </tr>\n",
       "  </tbody>\n",
       "</table>\n",
       "</div>"
      ],
      "text/plain": [
       "      gender  SeniorCitizen Partner Dependents  tenure PhoneService  \\\n",
       "488   Female              0     Yes        Yes       0           No   \n",
       "753     Male              0      No        Yes       0          Yes   \n",
       "936   Female              0     Yes        Yes       0          Yes   \n",
       "1082    Male              0     Yes        Yes       0          Yes   \n",
       "1340  Female              0     Yes        Yes       0           No   \n",
       "3331    Male              0     Yes        Yes       0          Yes   \n",
       "3826    Male              0     Yes        Yes       0          Yes   \n",
       "4380  Female              0     Yes        Yes       0          Yes   \n",
       "5218    Male              0     Yes        Yes       0          Yes   \n",
       "6670  Female              0     Yes        Yes       0          Yes   \n",
       "6754    Male              0      No        Yes       0          Yes   \n",
       "\n",
       "         MultipleLines InternetService       OnlineSecurity  \\\n",
       "488   No phone service             DSL                  Yes   \n",
       "753                 No              No  No internet service   \n",
       "936                 No             DSL                  Yes   \n",
       "1082               Yes              No  No internet service   \n",
       "1340  No phone service             DSL                  Yes   \n",
       "3331                No              No  No internet service   \n",
       "3826               Yes              No  No internet service   \n",
       "4380                No              No  No internet service   \n",
       "5218                No              No  No internet service   \n",
       "6670               Yes             DSL                   No   \n",
       "6754               Yes             DSL                  Yes   \n",
       "\n",
       "             OnlineBackup     DeviceProtection          TechSupport  \\\n",
       "488                    No                  Yes                  Yes   \n",
       "753   No internet service  No internet service  No internet service   \n",
       "936                   Yes                  Yes                   No   \n",
       "1082  No internet service  No internet service  No internet service   \n",
       "1340                  Yes                  Yes                  Yes   \n",
       "3331  No internet service  No internet service  No internet service   \n",
       "3826  No internet service  No internet service  No internet service   \n",
       "4380  No internet service  No internet service  No internet service   \n",
       "5218  No internet service  No internet service  No internet service   \n",
       "6670                  Yes                  Yes                  Yes   \n",
       "6754                  Yes                   No                  Yes   \n",
       "\n",
       "              StreamingTV      StreamingMovies  Contract PaperlessBilling  \\\n",
       "488                   Yes                   No  Two year              Yes   \n",
       "753   No internet service  No internet service  Two year               No   \n",
       "936                   Yes                  Yes  Two year               No   \n",
       "1082  No internet service  No internet service  Two year               No   \n",
       "1340                  Yes                   No  Two year               No   \n",
       "3331  No internet service  No internet service  Two year               No   \n",
       "3826  No internet service  No internet service  Two year               No   \n",
       "4380  No internet service  No internet service  Two year               No   \n",
       "5218  No internet service  No internet service  One year              Yes   \n",
       "6670                  Yes                   No  Two year               No   \n",
       "6754                   No                   No  Two year              Yes   \n",
       "\n",
       "                  PaymentMethod  MonthlyCharges TotalCharges Churn  \n",
       "488   Bank transfer (automatic)           52.55                 No  \n",
       "753                Mailed check           20.25                 No  \n",
       "936                Mailed check           80.85                 No  \n",
       "1082               Mailed check           25.75                 No  \n",
       "1340    Credit card (automatic)           56.05                 No  \n",
       "3331               Mailed check           19.85                 No  \n",
       "3826               Mailed check           25.35                 No  \n",
       "4380               Mailed check           20.00                 No  \n",
       "5218               Mailed check           19.70                 No  \n",
       "6670               Mailed check           73.35                 No  \n",
       "6754  Bank transfer (automatic)           61.90                 No  "
      ]
     },
     "execution_count": 7,
     "metadata": {},
     "output_type": "execute_result"
    }
   ],
   "source": [
    "df[pd.to_numeric(df[\"TotalCharges\"],errors=\"coerce\").isnull()]"
   ]
  },
  {
   "cell_type": "code",
   "execution_count": 8,
   "id": "14423345",
   "metadata": {
    "execution": {
     "iopub.execute_input": "2022-08-05T10:28:31.622839Z",
     "iopub.status.busy": "2022-08-05T10:28:31.622387Z",
     "iopub.status.idle": "2022-08-05T10:28:31.630999Z",
     "shell.execute_reply": "2022-08-05T10:28:31.630035Z"
    },
    "papermill": {
     "duration": 0.026607,
     "end_time": "2022-08-05T10:28:31.633002",
     "exception": false,
     "start_time": "2022-08-05T10:28:31.606395",
     "status": "completed"
    },
    "tags": []
   },
   "outputs": [],
   "source": [
    "df=df[df.TotalCharges!=\" \"]"
   ]
  },
  {
   "cell_type": "code",
   "execution_count": 9,
   "id": "fc9d7320",
   "metadata": {
    "execution": {
     "iopub.execute_input": "2022-08-05T10:28:31.663683Z",
     "iopub.status.busy": "2022-08-05T10:28:31.662841Z",
     "iopub.status.idle": "2022-08-05T10:28:31.669714Z",
     "shell.execute_reply": "2022-08-05T10:28:31.668683Z"
    },
    "papermill": {
     "duration": 0.024676,
     "end_time": "2022-08-05T10:28:31.671746",
     "exception": false,
     "start_time": "2022-08-05T10:28:31.647070",
     "status": "completed"
    },
    "tags": []
   },
   "outputs": [
    {
     "data": {
      "text/plain": [
       "(7032, 20)"
      ]
     },
     "execution_count": 9,
     "metadata": {},
     "output_type": "execute_result"
    }
   ],
   "source": [
    "df.shape"
   ]
  },
  {
   "cell_type": "code",
   "execution_count": 10,
   "id": "7eef187c",
   "metadata": {
    "execution": {
     "iopub.execute_input": "2022-08-05T10:28:31.704049Z",
     "iopub.status.busy": "2022-08-05T10:28:31.703327Z",
     "iopub.status.idle": "2022-08-05T10:28:31.713987Z",
     "shell.execute_reply": "2022-08-05T10:28:31.713119Z"
    },
    "papermill": {
     "duration": 0.031403,
     "end_time": "2022-08-05T10:28:31.717550",
     "exception": false,
     "start_time": "2022-08-05T10:28:31.686147",
     "status": "completed"
    },
    "tags": []
   },
   "outputs": [
    {
     "name": "stderr",
     "output_type": "stream",
     "text": [
      "/opt/conda/lib/python3.7/site-packages/ipykernel_launcher.py:1: SettingWithCopyWarning: \n",
      "A value is trying to be set on a copy of a slice from a DataFrame.\n",
      "Try using .loc[row_indexer,col_indexer] = value instead\n",
      "\n",
      "See the caveats in the documentation: https://pandas.pydata.org/pandas-docs/stable/user_guide/indexing.html#returning-a-view-versus-a-copy\n",
      "  \"\"\"Entry point for launching an IPython kernel.\n"
     ]
    }
   ],
   "source": [
    "df[\"TotalCharges\"]=pd.to_numeric(df.TotalCharges)"
   ]
  },
  {
   "cell_type": "code",
   "execution_count": 11,
   "id": "a3186522",
   "metadata": {
    "execution": {
     "iopub.execute_input": "2022-08-05T10:28:31.749802Z",
     "iopub.status.busy": "2022-08-05T10:28:31.748976Z",
     "iopub.status.idle": "2022-08-05T10:28:31.755596Z",
     "shell.execute_reply": "2022-08-05T10:28:31.754767Z"
    },
    "papermill": {
     "duration": 0.024617,
     "end_time": "2022-08-05T10:28:31.757626",
     "exception": false,
     "start_time": "2022-08-05T10:28:31.733009",
     "status": "completed"
    },
    "tags": []
   },
   "outputs": [
    {
     "data": {
      "text/plain": [
       "dtype('float64')"
      ]
     },
     "execution_count": 11,
     "metadata": {},
     "output_type": "execute_result"
    }
   ],
   "source": [
    "df.TotalCharges.dtypes"
   ]
  },
  {
   "cell_type": "code",
   "execution_count": 12,
   "id": "dc4252ce",
   "metadata": {
    "execution": {
     "iopub.execute_input": "2022-08-05T10:28:31.788877Z",
     "iopub.status.busy": "2022-08-05T10:28:31.788035Z",
     "iopub.status.idle": "2022-08-05T10:28:32.091920Z",
     "shell.execute_reply": "2022-08-05T10:28:32.090603Z"
    },
    "papermill": {
     "duration": 0.322648,
     "end_time": "2022-08-05T10:28:32.094707",
     "exception": false,
     "start_time": "2022-08-05T10:28:31.772059",
     "status": "completed"
    },
    "tags": []
   },
   "outputs": [
    {
     "data": {
      "image/png": "[encoded data removed]",
      "text/plain": [
       "<Figure size 432x288 with 1 Axes>"
      ]
     },
     "metadata": {
      "needs_background": "light"
     },
     "output_type": "display_data"
    }
   ],
   "source": [
    "churn_no=df[df.Churn==\"No\"].tenure\n",
    "churn_yes=df[df.Churn==\"Yes\"].tenure\n",
    "\n",
    "plt.xlabel(\"tenure\")\n",
    "plt.ylabel(\"Number Of Customers\")\n",
    "plt.title(\"Customer Churn Prediction Visualiztion\")\n",
    "\n",
    "plt.hist([churn_yes, churn_no], rwidth=0.75, color=['salmon','lightgreen'],label=['Churn=Yes','Churn=No'])\n",
    "plt.legend();"
   ]
  },
  {
   "cell_type": "code",
   "execution_count": 13,
   "id": "a95d6a12",
   "metadata": {
    "execution": {
     "iopub.execute_input": "2022-08-05T10:28:32.128460Z",
     "iopub.status.busy": "2022-08-05T10:28:32.127541Z",
     "iopub.status.idle": "2022-08-05T10:28:32.389912Z",
     "shell.execute_reply": "2022-08-05T10:28:32.389137Z"
    },
    "papermill": {
     "duration": 0.281919,
     "end_time": "2022-08-05T10:28:32.392116",
     "exception": false,
     "start_time": "2022-08-05T10:28:32.110197",
     "status": "completed"
    },
    "tags": []
   },
   "outputs": [
    {
     "data": {
      "text/plain": [
       "<matplotlib.legend.Legend at 0x7fca98759cd0>"
      ]
     },
     "execution_count": 13,
     "metadata": {},
     "output_type": "execute_result"
    },
    {
     "data": {
      "image/png": "[encoded data removed]",
      "text/plain": [
       "<Figure size 432x288 with 1 Axes>"
      ]
     },
     "metadata": {
      "needs_background": "light"
     },
     "output_type": "display_data"
    }
   ],
   "source": [
    "mc_churn_no = df[df.Churn=='No'].MonthlyCharges      \n",
    "mc_churn_yes = df[df.Churn=='Yes'].MonthlyCharges      \n",
    "\n",
    "plt.xlabel(\"Monthly Charges\")\n",
    "plt.ylabel(\"Number Of Customers\")\n",
    "plt.title(\"Customer Churn Prediction Visualiztion\")\n",
    "\n",
    "\n",
    "plt.hist([mc_churn_yes, mc_churn_no], rwidth=0.75, color=['salmon','lightgreen'],label=['Churn=Yes','Churn=No'])\n",
    "plt.legend()"
   ]
  },
  {
   "cell_type": "code",
   "execution_count": 14,
   "id": "c52c19d0",
   "metadata": {
    "execution": {
     "iopub.execute_input": "2022-08-05T10:28:32.426234Z",
     "iopub.status.busy": "2022-08-05T10:28:32.425596Z",
     "iopub.status.idle": "2022-08-05T10:28:32.432277Z",
     "shell.execute_reply": "2022-08-05T10:28:32.431549Z"
    },
    "papermill": {
     "duration": 0.026559,
     "end_time": "2022-08-05T10:28:32.434518",
     "exception": false,
     "start_time": "2022-08-05T10:28:32.407959",
     "status": "completed"
    },
    "tags": []
   },
   "outputs": [],
   "source": [
    "def get_couloms():\n",
    "    for columns in df:\n",
    "        if(df[columns].dtypes==\"object\"):\n",
    "            print(f\"{columns} : {df[columns].unique()}\")"
   ]
  },
  {
   "cell_type": "code",
   "execution_count": 15,
   "id": "d59a28c5",
   "metadata": {
    "execution": {
     "iopub.execute_input": "2022-08-05T10:28:32.467009Z",
     "iopub.status.busy": "2022-08-05T10:28:32.466378Z",
     "iopub.status.idle": "2022-08-05T10:28:32.484077Z",
     "shell.execute_reply": "2022-08-05T10:28:32.482723Z"
    },
    "papermill": {
     "duration": 0.036688,
     "end_time": "2022-08-05T10:28:32.486473",
     "exception": false,
     "start_time": "2022-08-05T10:28:32.449785",
     "status": "completed"
    },
    "tags": []
   },
   "outputs": [
    {
     "name": "stdout",
     "output_type": "stream",
     "text": [
      "gender : ['Female' 'Male']\n",
      "Partner : ['Yes' 'No']\n",
      "Dependents : ['No' 'Yes']\n",
      "PhoneService : ['No' 'Yes']\n",
      "MultipleLines : ['No phone service' 'No' 'Yes']\n",
      "InternetService : ['DSL' 'Fiber optic' 'No']\n",
      "OnlineSecurity : ['No' 'Yes' 'No internet service']\n",
      "OnlineBackup : ['Yes' 'No' 'No internet service']\n",
      "DeviceProtection : ['No' 'Yes' 'No internet service']\n",
      "TechSupport : ['No' 'Yes' 'No internet service']\n",
      "StreamingTV : ['No' 'Yes' 'No internet service']\n",
      "StreamingMovies : ['No' 'Yes' 'No internet service']\n",
      "Contract : ['Month-to-month' 'One year' 'Two year']\n",
      "PaperlessBilling : ['Yes' 'No']\n",
      "PaymentMethod : ['Electronic check' 'Mailed check' 'Bank transfer (automatic)'\n",
      " 'Credit card (automatic)']\n",
      "Churn : ['No' 'Yes']\n"
     ]
    }
   ],
   "source": [
    "  get_couloms()"
   ]
  },
  {
   "cell_type": "code",
   "execution_count": 16,
   "id": "f2042763",
   "metadata": {
    "execution": {
     "iopub.execute_input": "2022-08-05T10:28:32.519455Z",
     "iopub.status.busy": "2022-08-05T10:28:32.518631Z",
     "iopub.status.idle": "2022-08-05T10:28:32.541623Z",
     "shell.execute_reply": "2022-08-05T10:28:32.540315Z"
    },
    "papermill": {
     "duration": 0.0433,
     "end_time": "2022-08-05T10:28:32.545116",
     "exception": false,
     "start_time": "2022-08-05T10:28:32.501816",
     "status": "completed"
    },
    "tags": []
   },
   "outputs": [
    {
     "name": "stderr",
     "output_type": "stream",
     "text": [
      "/opt/conda/lib/python3.7/site-packages/pandas/core/frame.py:5244: SettingWithCopyWarning: \n",
      "A value is trying to be set on a copy of a slice from a DataFrame\n",
      "\n",
      "See the caveats in the documentation: https://pandas.pydata.org/pandas-docs/stable/user_guide/indexing.html#returning-a-view-versus-a-copy\n",
      "  method=method,\n"
     ]
    }
   ],
   "source": [
    "df.replace(\"No internet service\",\"No\",inplace=True)\n",
    "df.replace(\"No phone service\",\"No\",inplace=True)"
   ]
  },
  {
   "cell_type": "code",
   "execution_count": 17,
   "id": "b9a6fb0b",
   "metadata": {
    "execution": {
     "iopub.execute_input": "2022-08-05T10:28:32.580659Z",
     "iopub.status.busy": "2022-08-05T10:28:32.579911Z",
     "iopub.status.idle": "2022-08-05T10:28:32.598114Z",
     "shell.execute_reply": "2022-08-05T10:28:32.596568Z"
    },
    "papermill": {
     "duration": 0.038517,
     "end_time": "2022-08-05T10:28:32.600591",
     "exception": false,
     "start_time": "2022-08-05T10:28:32.562074",
     "status": "completed"
    },
    "tags": []
   },
   "outputs": [
    {
     "name": "stdout",
     "output_type": "stream",
     "text": [
      "gender : ['Female' 'Male']\n",
      "Partner : ['Yes' 'No']\n",
      "Dependents : ['No' 'Yes']\n",
      "PhoneService : ['No' 'Yes']\n",
      "MultipleLines : ['No' 'Yes']\n",
      "InternetService : ['DSL' 'Fiber optic' 'No']\n",
      "OnlineSecurity : ['No' 'Yes']\n",
      "OnlineBackup : ['Yes' 'No']\n",
      "DeviceProtection : ['No' 'Yes']\n",
      "TechSupport : ['No' 'Yes']\n",
      "StreamingTV : ['No' 'Yes']\n",
      "StreamingMovies : ['No' 'Yes']\n",
      "Contract : ['Month-to-month' 'One year' 'Two year']\n",
      "PaperlessBilling : ['Yes' 'No']\n",
      "PaymentMethod : ['Electronic check' 'Mailed check' 'Bank transfer (automatic)'\n",
      " 'Credit card (automatic)']\n",
      "Churn : ['No' 'Yes']\n"
     ]
    }
   ],
   "source": [
    "get_couloms()"
   ]
  },
  {
   "cell_type": "code",
   "execution_count": 18,
   "id": "61ea7b98",
   "metadata": {
    "execution": {
     "iopub.execute_input": "2022-08-05T10:28:32.634412Z",
     "iopub.status.busy": "2022-08-05T10:28:32.634003Z",
     "iopub.status.idle": "2022-08-05T10:28:32.686753Z",
     "shell.execute_reply": "2022-08-05T10:28:32.685220Z"
    },
    "papermill": {
     "duration": 0.073159,
     "end_time": "2022-08-05T10:28:32.689728",
     "exception": false,
     "start_time": "2022-08-05T10:28:32.616569",
     "status": "completed"
    },
    "tags": []
   },
   "outputs": [
    {
     "name": "stderr",
     "output_type": "stream",
     "text": [
      "/opt/conda/lib/python3.7/site-packages/pandas/core/generic.py:6619: SettingWithCopyWarning: \n",
      "A value is trying to be set on a copy of a slice from a DataFrame\n",
      "\n",
      "See the caveats in the documentation: https://pandas.pydata.org/pandas-docs/stable/user_guide/indexing.html#returning-a-view-versus-a-copy\n",
      "  return self._update_inplace(result)\n"
     ]
    }
   ],
   "source": [
    "##columns with YES or NO\n",
    "yes_no_col=[\"Partner\",\"Dependents\",\"PhoneService\",\"MultipleLines\",\"OnlineSecurity\",\"OnlineBackup\",\"DeviceProtection\",\n",
    "            \"TechSupport\",\"StreamingTV\",\"StreamingMovies\",\"PaperlessBilling\",\"Churn\"]\n",
    "\n",
    "for col in yes_no_col:\n",
    "    df[col].replace({\"Yes\":1,\"No\":0},inplace=True)"
   ]
  },
  {
   "cell_type": "code",
   "execution_count": 19,
   "id": "a144486e",
   "metadata": {
    "execution": {
     "iopub.execute_input": "2022-08-05T10:28:32.725564Z",
     "iopub.status.busy": "2022-08-05T10:28:32.724217Z",
     "iopub.status.idle": "2022-08-05T10:28:32.735250Z",
     "shell.execute_reply": "2022-08-05T10:28:32.733036Z"
    },
    "papermill": {
     "duration": 0.031735,
     "end_time": "2022-08-05T10:28:32.737890",
     "exception": false,
     "start_time": "2022-08-05T10:28:32.706155",
     "status": "completed"
    },
    "tags": []
   },
   "outputs": [
    {
     "name": "stdout",
     "output_type": "stream",
     "text": [
      "gender : ['Female' 'Male']\n",
      "InternetService : ['DSL' 'Fiber optic' 'No']\n",
      "Contract : ['Month-to-month' 'One year' 'Two year']\n",
      "PaymentMethod : ['Electronic check' 'Mailed check' 'Bank transfer (automatic)'\n",
      " 'Credit card (automatic)']\n"
     ]
    }
   ],
   "source": [
    "get_couloms()"
   ]
  },
  {
   "cell_type": "code",
   "execution_count": 20,
   "id": "0e3150cc",
   "metadata": {
    "execution": {
     "iopub.execute_input": "2022-08-05T10:28:32.771985Z",
     "iopub.status.busy": "2022-08-05T10:28:32.771148Z",
     "iopub.status.idle": "2022-08-05T10:28:32.780666Z",
     "shell.execute_reply": "2022-08-05T10:28:32.779708Z"
    },
    "papermill": {
     "duration": 0.029134,
     "end_time": "2022-08-05T10:28:32.783023",
     "exception": false,
     "start_time": "2022-08-05T10:28:32.753889",
     "status": "completed"
    },
    "tags": []
   },
   "outputs": [],
   "source": [
    "df[\"gender\"].replace({\"Female\":0,\"Male\":1},inplace=True)"
   ]
  },
  {
   "cell_type": "markdown",
   "id": "92c9de02",
   "metadata": {
    "papermill": {
     "duration": 0.015268,
     "end_time": "2022-08-05T10:28:32.814129",
     "exception": false,
     "start_time": "2022-08-05T10:28:32.798861",
     "status": "completed"
    },
    "tags": []
   },
   "source": [
    "# **ONE HOT ENCODING**"
   ]
  },
  {
   "cell_type": "code",
   "execution_count": 21,
   "id": "b93034c9",
   "metadata": {
    "execution": {
     "iopub.execute_input": "2022-08-05T10:28:32.847678Z",
     "iopub.status.busy": "2022-08-05T10:28:32.846775Z",
     "iopub.status.idle": "2022-08-05T10:28:32.865670Z",
     "shell.execute_reply": "2022-08-05T10:28:32.864699Z"
    },
    "papermill": {
     "duration": 0.038397,
     "end_time": "2022-08-05T10:28:32.867859",
     "exception": false,
     "start_time": "2022-08-05T10:28:32.829462",
     "status": "completed"
    },
    "tags": []
   },
   "outputs": [
    {
     "data": {
      "text/plain": [
       "Index(['gender', 'SeniorCitizen', 'Partner', 'Dependents', 'tenure',\n",
       "       'PhoneService', 'MultipleLines', 'OnlineSecurity', 'OnlineBackup',\n",
       "       'DeviceProtection', 'TechSupport', 'StreamingTV', 'StreamingMovies',\n",
       "       'PaperlessBilling', 'MonthlyCharges', 'TotalCharges', 'Churn',\n",
       "       'InternetService_DSL', 'InternetService_Fiber optic',\n",
       "       'InternetService_No', 'Contract_Month-to-month', 'Contract_One year',\n",
       "       'Contract_Two year', 'PaymentMethod_Bank transfer (automatic)',\n",
       "       'PaymentMethod_Credit card (automatic)',\n",
       "       'PaymentMethod_Electronic check', 'PaymentMethod_Mailed check'],\n",
       "      dtype='object')"
      ]
     },
     "execution_count": 21,
     "metadata": {},
     "output_type": "execute_result"
    }
   ],
   "source": [
    "data=pd.get_dummies(data=df,columns=[\"InternetService\",\"Contract\",\"PaymentMethod\"])\n",
    "data.columns"
   ]
  },
  {
   "cell_type": "code",
   "execution_count": 22,
   "id": "15220ff1",
   "metadata": {
    "execution": {
     "iopub.execute_input": "2022-08-05T10:28:32.901734Z",
     "iopub.status.busy": "2022-08-05T10:28:32.900892Z",
     "iopub.status.idle": "2022-08-05T10:28:32.919438Z",
     "shell.execute_reply": "2022-08-05T10:28:32.917310Z"
    },
    "papermill": {
     "duration": 0.03954,
     "end_time": "2022-08-05T10:28:32.922975",
     "exception": false,
     "start_time": "2022-08-05T10:28:32.883435",
     "status": "completed"
    },
    "tags": []
   },
   "outputs": [
    {
     "name": "stdout",
     "output_type": "stream",
     "text": [
      "<class 'pandas.core.frame.DataFrame'>\n",
      "Int64Index: 7032 entries, 0 to 7042\n",
      "Data columns (total 27 columns):\n",
      " #   Column                                   Non-Null Count  Dtype  \n",
      "---  ------                                   --------------  -----  \n",
      " 0   gender                                   7032 non-null   int64  \n",
      " 1   SeniorCitizen                            7032 non-null   int64  \n",
      " 2   Partner                                  7032 non-null   int64  \n",
      " 3   Dependents                               7032 non-null   int64  \n",
      " 4   tenure                                   7032 non-null   int64  \n",
      " 5   PhoneService                             7032 non-null   int64  \n",
      " 6   MultipleLines                            7032 non-null   int64  \n",
      " 7   OnlineSecurity                           7032 non-null   int64  \n",
      " 8   OnlineBackup                             7032 non-null   int64  \n",
      " 9   DeviceProtection                         7032 non-null   int64  \n",
      " 10  TechSupport                              7032 non-null   int64  \n",
      " 11  StreamingTV                              7032 non-null   int64  \n",
      " 12  StreamingMovies                          7032 non-null   int64  \n",
      " 13  PaperlessBilling                         7032 non-null   int64  \n",
      " 14  MonthlyCharges                           7032 non-null   float64\n",
      " 15  TotalCharges                             7032 non-null   float64\n",
      " 16  Churn                                    7032 non-null   int64  \n",
      " 17  InternetService_DSL                      7032 non-null   uint8  \n",
      " 18  InternetService_Fiber optic              7032 non-null   uint8  \n",
      " 19  InternetService_No                       7032 non-null   uint8  \n",
      " 20  Contract_Month-to-month                  7032 non-null   uint8  \n",
      " 21  Contract_One year                        7032 non-null   uint8  \n",
      " 22  Contract_Two year                        7032 non-null   uint8  \n",
      " 23  PaymentMethod_Bank transfer (automatic)  7032 non-null   uint8  \n",
      " 24  PaymentMethod_Credit card (automatic)    7032 non-null   uint8  \n",
      " 25  PaymentMethod_Electronic check           7032 non-null   uint8  \n",
      " 26  PaymentMethod_Mailed check               7032 non-null   uint8  \n",
      "dtypes: float64(2), int64(15), uint8(10)\n",
      "memory usage: 1.0 MB\n"
     ]
    }
   ],
   "source": [
    "data.info()"
   ]
  },
  {
   "cell_type": "code",
   "execution_count": 23,
   "id": "0216d779",
   "metadata": {
    "execution": {
     "iopub.execute_input": "2022-08-05T10:28:32.959308Z",
     "iopub.status.busy": "2022-08-05T10:28:32.958185Z",
     "iopub.status.idle": "2022-08-05T10:28:32.979568Z",
     "shell.execute_reply": "2022-08-05T10:28:32.978294Z"
    },
    "papermill": {
     "duration": 0.042232,
     "end_time": "2022-08-05T10:28:32.982440",
     "exception": false,
     "start_time": "2022-08-05T10:28:32.940208",
     "status": "completed"
    },
    "tags": []
   },
   "outputs": [
    {
     "data": {
      "text/html": [
       "<div>\n",
       "<style scoped>\n",
       "    .dataframe tbody tr th:only-of-type {\n",
       "        vertical-align: middle;\n",
       "    }\n",
       "\n",
       "    .dataframe tbody tr th {\n",
       "        vertical-align: top;\n",
       "    }\n",
       "\n",
       "    .dataframe thead th {\n",
       "        text-align: right;\n",
       "    }\n",
       "</style>\n",
       "<table border=\"1\" class=\"dataframe\">\n",
       "  <thead>\n",
       "    <tr style=\"text-align: right;\">\n",
       "      <th></th>\n",
       "      <th>gender</th>\n",
       "      <th>SeniorCitizen</th>\n",
       "      <th>Partner</th>\n",
       "      <th>Dependents</th>\n",
       "      <th>tenure</th>\n",
       "      <th>PhoneService</th>\n",
       "      <th>MultipleLines</th>\n",
       "      <th>OnlineSecurity</th>\n",
       "      <th>OnlineBackup</th>\n",
       "      <th>DeviceProtection</th>\n",
       "      <th>...</th>\n",
       "      <th>InternetService_DSL</th>\n",
       "      <th>InternetService_Fiber optic</th>\n",
       "      <th>InternetService_No</th>\n",
       "      <th>Contract_Month-to-month</th>\n",
       "      <th>Contract_One year</th>\n",
       "      <th>Contract_Two year</th>\n",
       "      <th>PaymentMethod_Bank transfer (automatic)</th>\n",
       "      <th>PaymentMethod_Credit card (automatic)</th>\n",
       "      <th>PaymentMethod_Electronic check</th>\n",
       "      <th>PaymentMethod_Mailed check</th>\n",
       "    </tr>\n",
       "  </thead>\n",
       "  <tbody>\n",
       "    <tr>\n",
       "      <th>0</th>\n",
       "      <td>0</td>\n",
       "      <td>0</td>\n",
       "      <td>1</td>\n",
       "      <td>0</td>\n",
       "      <td>1</td>\n",
       "      <td>0</td>\n",
       "      <td>0</td>\n",
       "      <td>0</td>\n",
       "      <td>1</td>\n",
       "      <td>0</td>\n",
       "      <td>...</td>\n",
       "      <td>1</td>\n",
       "      <td>0</td>\n",
       "      <td>0</td>\n",
       "      <td>1</td>\n",
       "      <td>0</td>\n",
       "      <td>0</td>\n",
       "      <td>0</td>\n",
       "      <td>0</td>\n",
       "      <td>1</td>\n",
       "      <td>0</td>\n",
       "    </tr>\n",
       "    <tr>\n",
       "      <th>1</th>\n",
       "      <td>1</td>\n",
       "      <td>0</td>\n",
       "      <td>0</td>\n",
       "      <td>0</td>\n",
       "      <td>34</td>\n",
       "      <td>1</td>\n",
       "      <td>0</td>\n",
       "      <td>1</td>\n",
       "      <td>0</td>\n",
       "      <td>1</td>\n",
       "      <td>...</td>\n",
       "      <td>1</td>\n",
       "      <td>0</td>\n",
       "      <td>0</td>\n",
       "      <td>0</td>\n",
       "      <td>1</td>\n",
       "      <td>0</td>\n",
       "      <td>0</td>\n",
       "      <td>0</td>\n",
       "      <td>0</td>\n",
       "      <td>1</td>\n",
       "    </tr>\n",
       "    <tr>\n",
       "      <th>2</th>\n",
       "      <td>1</td>\n",
       "      <td>0</td>\n",
       "      <td>0</td>\n",
       "      <td>0</td>\n",
       "      <td>2</td>\n",
       "      <td>1</td>\n",
       "      <td>0</td>\n",
       "      <td>1</td>\n",
       "      <td>1</td>\n",
       "      <td>0</td>\n",
       "      <td>...</td>\n",
       "      <td>1</td>\n",
       "      <td>0</td>\n",
       "      <td>0</td>\n",
       "      <td>1</td>\n",
       "      <td>0</td>\n",
       "      <td>0</td>\n",
       "      <td>0</td>\n",
       "      <td>0</td>\n",
       "      <td>0</td>\n",
       "      <td>1</td>\n",
       "    </tr>\n",
       "    <tr>\n",
       "      <th>3</th>\n",
       "      <td>1</td>\n",
       "      <td>0</td>\n",
       "      <td>0</td>\n",
       "      <td>0</td>\n",
       "      <td>45</td>\n",
       "      <td>0</td>\n",
       "      <td>0</td>\n",
       "      <td>1</td>\n",
       "      <td>0</td>\n",
       "      <td>1</td>\n",
       "      <td>...</td>\n",
       "      <td>1</td>\n",
       "      <td>0</td>\n",
       "      <td>0</td>\n",
       "      <td>0</td>\n",
       "      <td>1</td>\n",
       "      <td>0</td>\n",
       "      <td>1</td>\n",
       "      <td>0</td>\n",
       "      <td>0</td>\n",
       "      <td>0</td>\n",
       "    </tr>\n",
       "    <tr>\n",
       "      <th>4</th>\n",
       "      <td>0</td>\n",
       "      <td>0</td>\n",
       "      <td>0</td>\n",
       "      <td>0</td>\n",
       "      <td>2</td>\n",
       "      <td>1</td>\n",
       "      <td>0</td>\n",
       "      <td>0</td>\n",
       "      <td>0</td>\n",
       "      <td>0</td>\n",
       "      <td>...</td>\n",
       "      <td>0</td>\n",
       "      <td>1</td>\n",
       "      <td>0</td>\n",
       "      <td>1</td>\n",
       "      <td>0</td>\n",
       "      <td>0</td>\n",
       "      <td>0</td>\n",
       "      <td>0</td>\n",
       "      <td>1</td>\n",
       "      <td>0</td>\n",
       "    </tr>\n",
       "    <tr>\n",
       "      <th>5</th>\n",
       "      <td>0</td>\n",
       "      <td>0</td>\n",
       "      <td>0</td>\n",
       "      <td>0</td>\n",
       "      <td>8</td>\n",
       "      <td>1</td>\n",
       "      <td>1</td>\n",
       "      <td>0</td>\n",
       "      <td>0</td>\n",
       "      <td>1</td>\n",
       "      <td>...</td>\n",
       "      <td>0</td>\n",
       "      <td>1</td>\n",
       "      <td>0</td>\n",
       "      <td>1</td>\n",
       "      <td>0</td>\n",
       "      <td>0</td>\n",
       "      <td>0</td>\n",
       "      <td>0</td>\n",
       "      <td>1</td>\n",
       "      <td>0</td>\n",
       "    </tr>\n",
       "    <tr>\n",
       "      <th>6</th>\n",
       "      <td>1</td>\n",
       "      <td>0</td>\n",
       "      <td>0</td>\n",
       "      <td>1</td>\n",
       "      <td>22</td>\n",
       "      <td>1</td>\n",
       "      <td>1</td>\n",
       "      <td>0</td>\n",
       "      <td>1</td>\n",
       "      <td>0</td>\n",
       "      <td>...</td>\n",
       "      <td>0</td>\n",
       "      <td>1</td>\n",
       "      <td>0</td>\n",
       "      <td>1</td>\n",
       "      <td>0</td>\n",
       "      <td>0</td>\n",
       "      <td>0</td>\n",
       "      <td>1</td>\n",
       "      <td>0</td>\n",
       "      <td>0</td>\n",
       "    </tr>\n",
       "  </tbody>\n",
       "</table>\n",
       "<p>7 rows × 27 columns</p>\n",
       "</div>"
      ],
      "text/plain": [
       "   gender  SeniorCitizen  Partner  Dependents  tenure  PhoneService  \\\n",
       "0       0              0        1           0       1             0   \n",
       "1       1              0        0           0      34             1   \n",
       "2       1              0        0           0       2             1   \n",
       "3       1              0        0           0      45             0   \n",
       "4       0              0        0           0       2             1   \n",
       "5       0              0        0           0       8             1   \n",
       "6       1              0        0           1      22             1   \n",
       "\n",
       "   MultipleLines  OnlineSecurity  OnlineBackup  DeviceProtection  ...  \\\n",
       "0              0               0             1                 0  ...   \n",
       "1              0               1             0                 1  ...   \n",
       "2              0               1             1                 0  ...   \n",
       "3              0               1             0                 1  ...   \n",
       "4              0               0             0                 0  ...   \n",
       "5              1               0             0                 1  ...   \n",
       "6              1               0             1                 0  ...   \n",
       "\n",
       "   InternetService_DSL  InternetService_Fiber optic  InternetService_No  \\\n",
       "0                    1                            0                   0   \n",
       "1                    1                            0                   0   \n",
       "2                    1                            0                   0   \n",
       "3                    1                            0                   0   \n",
       "4                    0                            1                   0   \n",
       "5                    0                            1                   0   \n",
       "6                    0                            1                   0   \n",
       "\n",
       "   Contract_Month-to-month  Contract_One year  Contract_Two year  \\\n",
       "0                        1                  0                  0   \n",
       "1                        0                  1                  0   \n",
       "2                        1                  0                  0   \n",
       "3                        0                  1                  0   \n",
       "4                        1                  0                  0   \n",
       "5                        1                  0                  0   \n",
       "6                        1                  0                  0   \n",
       "\n",
       "   PaymentMethod_Bank transfer (automatic)  \\\n",
       "0                                        0   \n",
       "1                                        0   \n",
       "2                                        0   \n",
       "3                                        1   \n",
       "4                                        0   \n",
       "5                                        0   \n",
       "6                                        0   \n",
       "\n",
       "   PaymentMethod_Credit card (automatic)  PaymentMethod_Electronic check  \\\n",
       "0                                      0                               1   \n",
       "1                                      0                               0   \n",
       "2                                      0                               0   \n",
       "3                                      0                               0   \n",
       "4                                      0                               1   \n",
       "5                                      0                               1   \n",
       "6                                      1                               0   \n",
       "\n",
       "   PaymentMethod_Mailed check  \n",
       "0                           0  \n",
       "1                           1  \n",
       "2                           1  \n",
       "3                           0  \n",
       "4                           0  \n",
       "5                           0  \n",
       "6                           0  \n",
       "\n",
       "[7 rows x 27 columns]"
      ]
     },
     "execution_count": 23,
     "metadata": {},
     "output_type": "execute_result"
    }
   ],
   "source": [
    "data.head(7)"
   ]
  },
  {
   "cell_type": "markdown",
   "id": "d027c5c7",
   "metadata": {
    "papermill": {
     "duration": 0.017417,
     "end_time": "2022-08-05T10:28:33.016878",
     "exception": false,
     "start_time": "2022-08-05T10:28:32.999461",
     "status": "completed"
    },
    "tags": []
   },
   "source": [
    "# **SCALLING OF DATA** "
   ]
  },
  {
   "cell_type": "code",
   "execution_count": 24,
   "id": "da625d98",
   "metadata": {
    "execution": {
     "iopub.execute_input": "2022-08-05T10:28:33.053442Z",
     "iopub.status.busy": "2022-08-05T10:28:33.053017Z",
     "iopub.status.idle": "2022-08-05T10:28:33.906715Z",
     "shell.execute_reply": "2022-08-05T10:28:33.905550Z"
    },
    "papermill": {
     "duration": 0.875491,
     "end_time": "2022-08-05T10:28:33.909624",
     "exception": false,
     "start_time": "2022-08-05T10:28:33.034133",
     "status": "completed"
    },
    "tags": []
   },
   "outputs": [],
   "source": [
    "from sklearn.preprocessing import MinMaxScaler\n",
    "\n",
    "col=['tenure','MonthlyCharges','TotalCharges']\n",
    "scaler=MinMaxScaler()\n",
    "data[col]=scaler.fit_transform(data[col])"
   ]
  },
  {
   "cell_type": "code",
   "execution_count": 25,
   "id": "7a4cb5d7",
   "metadata": {
    "execution": {
     "iopub.execute_input": "2022-08-05T10:28:33.944224Z",
     "iopub.status.busy": "2022-08-05T10:28:33.943465Z",
     "iopub.status.idle": "2022-08-05T10:28:33.961731Z",
     "shell.execute_reply": "2022-08-05T10:28:33.960448Z"
    },
    "papermill": {
     "duration": 0.038217,
     "end_time": "2022-08-05T10:28:33.964325",
     "exception": false,
     "start_time": "2022-08-05T10:28:33.926108",
     "status": "completed"
    },
    "tags": []
   },
   "outputs": [
    {
     "name": "stdout",
     "output_type": "stream",
     "text": [
      "gender : [0 1]\n",
      "SeniorCitizen : [0 1]\n",
      "Partner : [1 0]\n",
      "Dependents : [0 1]\n",
      "tenure : [0.         0.46478873 0.01408451 0.61971831 0.09859155 0.29577465\n",
      " 0.12676056 0.38028169 0.85915493 0.16901408 0.21126761 0.8028169\n",
      " 0.67605634 0.33802817 0.95774648 0.71830986 0.98591549 0.28169014\n",
      " 0.15492958 0.4084507  0.64788732 1.         0.22535211 0.36619718\n",
      " 0.05633803 0.63380282 0.14084507 0.97183099 0.87323944 0.5915493\n",
      " 0.1971831  0.83098592 0.23943662 0.91549296 0.11267606 0.02816901\n",
      " 0.42253521 0.69014085 0.88732394 0.77464789 0.08450704 0.57746479\n",
      " 0.47887324 0.66197183 0.3943662  0.90140845 0.52112676 0.94366197\n",
      " 0.43661972 0.76056338 0.50704225 0.49295775 0.56338028 0.07042254\n",
      " 0.04225352 0.45070423 0.92957746 0.30985915 0.78873239 0.84507042\n",
      " 0.18309859 0.26760563 0.73239437 0.54929577 0.81690141 0.32394366\n",
      " 0.6056338  0.25352113 0.74647887 0.70422535 0.35211268 0.53521127]\n",
      "PhoneService : [0 1]\n",
      "MultipleLines : [0 1]\n",
      "OnlineSecurity : [0 1]\n",
      "OnlineBackup : [1 0]\n",
      "DeviceProtection : [0 1]\n",
      "TechSupport : [0 1]\n",
      "StreamingTV : [0 1]\n",
      "StreamingMovies : [0 1]\n",
      "PaperlessBilling : [1 0]\n",
      "MonthlyCharges : [0.11542289 0.38507463 0.35422886 ... 0.44626866 0.25820896 0.60149254]\n",
      "TotalCharges : [0.0012751  0.21586661 0.01031041 ... 0.03780868 0.03321025 0.78764136]\n",
      "Churn : [0 1]\n",
      "InternetService_DSL : [1 0]\n",
      "InternetService_Fiber optic : [0 1]\n",
      "InternetService_No : [0 1]\n",
      "Contract_Month-to-month : [1 0]\n",
      "Contract_One year : [0 1]\n",
      "Contract_Two year : [0 1]\n",
      "PaymentMethod_Bank transfer (automatic) : [0 1]\n",
      "PaymentMethod_Credit card (automatic) : [0 1]\n",
      "PaymentMethod_Electronic check : [1 0]\n",
      "PaymentMethod_Mailed check : [0 1]\n"
     ]
    }
   ],
   "source": [
    "for col in data:\n",
    "    print(f\"{col} : {data[col].unique()}\")"
   ]
  },
  {
   "cell_type": "markdown",
   "id": "7ca3f2e1",
   "metadata": {
    "papermill": {
     "duration": 0.01624,
     "end_time": "2022-08-05T10:28:33.997277",
     "exception": false,
     "start_time": "2022-08-05T10:28:33.981037",
     "status": "completed"
    },
    "tags": []
   },
   "source": [
    "# **TRAIN TEST SPLIT**"
   ]
  },
  {
   "cell_type": "code",
   "execution_count": 26,
   "id": "37e618ff",
   "metadata": {
    "execution": {
     "iopub.execute_input": "2022-08-05T10:28:34.032296Z",
     "iopub.status.busy": "2022-08-05T10:28:34.031542Z",
     "iopub.status.idle": "2022-08-05T10:28:34.099776Z",
     "shell.execute_reply": "2022-08-05T10:28:34.098630Z"
    },
    "papermill": {
     "duration": 0.088776,
     "end_time": "2022-08-05T10:28:34.102594",
     "exception": false,
     "start_time": "2022-08-05T10:28:34.013818",
     "status": "completed"
    },
    "tags": []
   },
   "outputs": [],
   "source": [
    "from sklearn.model_selection import train_test_split\n",
    "\n",
    "x=data.drop(\"Churn\",axis=1)\n",
    "y=data.Churn"
   ]
  },
  {
   "cell_type": "code",
   "execution_count": 27,
   "id": "3d909b33",
   "metadata": {
    "execution": {
     "iopub.execute_input": "2022-08-05T10:28:34.137700Z",
     "iopub.status.busy": "2022-08-05T10:28:34.136924Z",
     "iopub.status.idle": "2022-08-05T10:28:34.148168Z",
     "shell.execute_reply": "2022-08-05T10:28:34.147038Z"
    },
    "papermill": {
     "duration": 0.031544,
     "end_time": "2022-08-05T10:28:34.150393",
     "exception": false,
     "start_time": "2022-08-05T10:28:34.118849",
     "status": "completed"
    },
    "tags": []
   },
   "outputs": [
    {
     "data": {
      "text/plain": [
       "(5625, 26)"
      ]
     },
     "execution_count": 27,
     "metadata": {},
     "output_type": "execute_result"
    }
   ],
   "source": [
    "## splitting X\n",
    "x_train,x_test,y_train,y_test=train_test_split(x,y,test_size=0.2,random_state=42)\n",
    "x_train.shape"
   ]
  },
  {
   "cell_type": "code",
   "execution_count": 28,
   "id": "83beaf40",
   "metadata": {
    "execution": {
     "iopub.execute_input": "2022-08-05T10:28:34.184580Z",
     "iopub.status.busy": "2022-08-05T10:28:34.184174Z",
     "iopub.status.idle": "2022-08-05T10:28:34.190660Z",
     "shell.execute_reply": "2022-08-05T10:28:34.189564Z"
    },
    "papermill": {
     "duration": 0.026402,
     "end_time": "2022-08-05T10:28:34.193055",
     "exception": false,
     "start_time": "2022-08-05T10:28:34.166653",
     "status": "completed"
    },
    "tags": []
   },
   "outputs": [
    {
     "data": {
      "text/plain": [
       "(1407, 26)"
      ]
     },
     "execution_count": 28,
     "metadata": {},
     "output_type": "execute_result"
    }
   ],
   "source": [
    "x_test.shape"
   ]
  },
  {
   "cell_type": "markdown",
   "id": "9857e151",
   "metadata": {
    "execution": {
     "iopub.execute_input": "2022-08-04T13:35:04.726664Z",
     "iopub.status.busy": "2022-08-04T13:35:04.726201Z",
     "iopub.status.idle": "2022-08-04T13:35:04.734406Z",
     "shell.execute_reply": "2022-08-04T13:35:04.733478Z",
     "shell.execute_reply.started": "2022-08-04T13:35:04.726625Z"
    },
    "papermill": {
     "duration": 0.015803,
     "end_time": "2022-08-05T10:28:34.224986",
     "exception": false,
     "start_time": "2022-08-05T10:28:34.209183",
     "status": "completed"
    },
    "tags": []
   },
   "source": [
    "# **Build a model (ANN) in tensorflow/keras**"
   ]
  },
  {
   "cell_type": "code",
   "execution_count": 29,
   "id": "1ad5cf8b",
   "metadata": {
    "execution": {
     "iopub.execute_input": "2022-08-05T10:28:34.259380Z",
     "iopub.status.busy": "2022-08-05T10:28:34.258650Z",
     "iopub.status.idle": "2022-08-05T10:28:35.408187Z",
     "shell.execute_reply": "2022-08-05T10:28:35.406746Z"
    },
    "papermill": {
     "duration": 1.169908,
     "end_time": "2022-08-05T10:28:35.411003",
     "exception": false,
     "start_time": "2022-08-05T10:28:34.241095",
     "status": "completed"
    },
    "tags": []
   },
   "outputs": [],
   "source": [
    "from tensorflow.keras.layers import Dense\n",
    "from tensorflow.keras import Sequential"
   ]
  },
  {
   "cell_type": "code",
   "execution_count": 30,
   "id": "2772964c",
   "metadata": {
    "execution": {
     "iopub.execute_input": "2022-08-05T10:28:35.445913Z",
     "iopub.status.busy": "2022-08-05T10:28:35.445525Z",
     "iopub.status.idle": "2022-08-05T10:28:35.579091Z",
     "shell.execute_reply": "2022-08-05T10:28:35.577849Z"
    },
    "papermill": {
     "duration": 0.154079,
     "end_time": "2022-08-05T10:28:35.581815",
     "exception": false,
     "start_time": "2022-08-05T10:28:35.427736",
     "status": "completed"
    },
    "tags": []
   },
   "outputs": [
    {
     "name": "stderr",
     "output_type": "stream",
     "text": [
      "2022-08-05 10:28:35.489909: I tensorflow/core/common_runtime/process_util.cc:146] Creating new thread pool with default inter op setting: 2. Tune using inter_op_parallelism_threads for best performance.\n"
     ]
    }
   ],
   "source": [
    "model=Sequential([\n",
    "    Dense(100,input_shape=(26,),activation=\"relu\"),\n",
    "    keras.layers.Dropout(0.5),\n",
    "    Dense(50,activation=\"relu\"),\n",
    "    keras.layers.Dropout(0.3),\n",
    "    Dense(1,activation=\"sigmoid\")\n",
    "])\n",
    "\n",
    "model.compile(optimizer=\"adam\",\n",
    "            loss=\"binary_crossentropy\",\n",
    "            metrics=[\"accuracy\"])"
   ]
  },
  {
   "cell_type": "code",
   "execution_count": 31,
   "id": "aeb4583a",
   "metadata": {
    "execution": {
     "iopub.execute_input": "2022-08-05T10:28:35.618380Z",
     "iopub.status.busy": "2022-08-05T10:28:35.617948Z",
     "iopub.status.idle": "2022-08-05T10:28:41.599555Z",
     "shell.execute_reply": "2022-08-05T10:28:41.598561Z"
    },
    "papermill": {
     "duration": 6.002846,
     "end_time": "2022-08-05T10:28:41.601867",
     "exception": false,
     "start_time": "2022-08-05T10:28:35.599021",
     "status": "completed"
    },
    "tags": []
   },
   "outputs": [
    {
     "name": "stderr",
     "output_type": "stream",
     "text": [
      "2022-08-05 10:28:35.712514: I tensorflow/compiler/mlir/mlir_graph_optimization_pass.cc:185] None of the MLIR Optimization Passes are enabled (registered 2)\n"
     ]
    },
    {
     "name": "stdout",
     "output_type": "stream",
     "text": [
      "Epoch 1/10\n",
      "176/176 [==============================] - 1s 3ms/step - loss: 0.5057 - accuracy: 0.7502\n",
      "Epoch 2/10\n",
      "176/176 [==============================] - 0s 3ms/step - loss: 0.4504 - accuracy: 0.7820\n",
      "Epoch 3/10\n",
      "176/176 [==============================] - 0s 3ms/step - loss: 0.4360 - accuracy: 0.7852\n",
      "Epoch 4/10\n",
      "176/176 [==============================] - 1s 3ms/step - loss: 0.4272 - accuracy: 0.7915\n",
      "Epoch 5/10\n",
      "176/176 [==============================] - 0s 3ms/step - loss: 0.4306 - accuracy: 0.7975\n",
      "Epoch 6/10\n",
      "176/176 [==============================] - 0s 3ms/step - loss: 0.4276 - accuracy: 0.7964\n",
      "Epoch 7/10\n",
      "176/176 [==============================] - 1s 3ms/step - loss: 0.4246 - accuracy: 0.7975\n",
      "Epoch 8/10\n",
      "176/176 [==============================] - 0s 3ms/step - loss: 0.4223 - accuracy: 0.8011\n",
      "Epoch 9/10\n",
      "176/176 [==============================] - 0s 3ms/step - loss: 0.4219 - accuracy: 0.8092\n",
      "Epoch 10/10\n",
      "176/176 [==============================] - 0s 3ms/step - loss: 0.4179 - accuracy: 0.8068\n"
     ]
    },
    {
     "data": {
      "text/plain": [
       "<keras.callbacks.History at 0x7fca94195610>"
      ]
     },
     "execution_count": 31,
     "metadata": {},
     "output_type": "execute_result"
    }
   ],
   "source": [
    "model.fit(x_train,y_train,epochs=10)"
   ]
  },
  {
   "cell_type": "code",
   "execution_count": 32,
   "id": "671580e9",
   "metadata": {
    "execution": {
     "iopub.execute_input": "2022-08-05T10:28:41.653729Z",
     "iopub.status.busy": "2022-08-05T10:28:41.653002Z",
     "iopub.status.idle": "2022-08-05T10:28:41.975265Z",
     "shell.execute_reply": "2022-08-05T10:28:41.973440Z"
    },
    "papermill": {
     "duration": 0.350856,
     "end_time": "2022-08-05T10:28:41.977834",
     "exception": false,
     "start_time": "2022-08-05T10:28:41.626978",
     "status": "completed"
    },
    "tags": []
   },
   "outputs": [
    {
     "name": "stdout",
     "output_type": "stream",
     "text": [
      "44/44 [==============================] - 0s 2ms/step - loss: 0.4348 - accuracy: 0.7854\n"
     ]
    },
    {
     "data": {
      "text/plain": [
       "[0.43475237488746643, 0.7853589057922363]"
      ]
     },
     "execution_count": 32,
     "metadata": {},
     "output_type": "execute_result"
    }
   ],
   "source": [
    "model.evaluate(x_test,y_test)"
   ]
  },
  {
   "cell_type": "code",
   "execution_count": 33,
   "id": "44c0364a",
   "metadata": {
    "execution": {
     "iopub.execute_input": "2022-08-05T10:28:42.030699Z",
     "iopub.status.busy": "2022-08-05T10:28:42.029871Z",
     "iopub.status.idle": "2022-08-05T10:28:42.243528Z",
     "shell.execute_reply": "2022-08-05T10:28:42.242322Z"
    },
    "papermill": {
     "duration": 0.243088,
     "end_time": "2022-08-05T10:28:42.246791",
     "exception": false,
     "start_time": "2022-08-05T10:28:42.003703",
     "status": "completed"
    },
    "tags": []
   },
   "outputs": [],
   "source": [
    "y_p=model.predict(x_test)\n",
    "\n",
    "y_pred=[]\n",
    "\n",
    "for i in y_p:\n",
    "    if i>=0.5:\n",
    "        y_pred.append(1)\n",
    "    else:\n",
    "        y_pred.append(0)"
   ]
  },
  {
   "cell_type": "code",
   "execution_count": 34,
   "id": "5af3beb9",
   "metadata": {
    "execution": {
     "iopub.execute_input": "2022-08-05T10:28:42.299607Z",
     "iopub.status.busy": "2022-08-05T10:28:42.298269Z",
     "iopub.status.idle": "2022-08-05T10:28:42.304756Z",
     "shell.execute_reply": "2022-08-05T10:28:42.303941Z"
    },
    "papermill": {
     "duration": 0.034876,
     "end_time": "2022-08-05T10:28:42.306899",
     "exception": false,
     "start_time": "2022-08-05T10:28:42.272023",
     "status": "completed"
    },
    "tags": []
   },
   "outputs": [
    {
     "data": {
      "text/plain": [
       "[0, 0, 1, 0, 0]"
      ]
     },
     "execution_count": 34,
     "metadata": {},
     "output_type": "execute_result"
    }
   ],
   "source": [
    "y_pred[:5]"
   ]
  },
  {
   "cell_type": "code",
   "execution_count": 35,
   "id": "6d062bf8",
   "metadata": {
    "execution": {
     "iopub.execute_input": "2022-08-05T10:28:42.360285Z",
     "iopub.status.busy": "2022-08-05T10:28:42.358804Z",
     "iopub.status.idle": "2022-08-05T10:28:42.366545Z",
     "shell.execute_reply": "2022-08-05T10:28:42.365743Z"
    },
    "papermill": {
     "duration": 0.03689,
     "end_time": "2022-08-05T10:28:42.368690",
     "exception": false,
     "start_time": "2022-08-05T10:28:42.331800",
     "status": "completed"
    },
    "tags": []
   },
   "outputs": [
    {
     "data": {
      "text/plain": [
       "2481    0\n",
       "6784    0\n",
       "6125    1\n",
       "3052    0\n",
       "4099    0\n",
       "Name: Churn, dtype: int64"
      ]
     },
     "execution_count": 35,
     "metadata": {},
     "output_type": "execute_result"
    }
   ],
   "source": [
    "y_test[:5]"
   ]
  },
  {
   "cell_type": "markdown",
   "id": "9b12b4e3",
   "metadata": {
    "papermill": {
     "duration": 0.024331,
     "end_time": "2022-08-05T10:28:42.418045",
     "exception": false,
     "start_time": "2022-08-05T10:28:42.393714",
     "status": "completed"
    },
    "tags": []
   },
   "source": [
    "# **confusion matrix**"
   ]
  },
  {
   "cell_type": "code",
   "execution_count": 36,
   "id": "0b0eb952",
   "metadata": {
    "execution": {
     "iopub.execute_input": "2022-08-05T10:28:42.470750Z",
     "iopub.status.busy": "2022-08-05T10:28:42.469829Z",
     "iopub.status.idle": "2022-08-05T10:28:42.671136Z",
     "shell.execute_reply": "2022-08-05T10:28:42.669996Z"
    },
    "papermill": {
     "duration": 0.231071,
     "end_time": "2022-08-05T10:28:42.674068",
     "exception": false,
     "start_time": "2022-08-05T10:28:42.442997",
     "status": "completed"
    },
    "tags": []
   },
   "outputs": [],
   "source": [
    "from sklearn.metrics import confusion_matrix,classification_report\n",
    "import seaborn as sn"
   ]
  },
  {
   "cell_type": "code",
   "execution_count": 37,
   "id": "8c7815b8",
   "metadata": {
    "execution": {
     "iopub.execute_input": "2022-08-05T10:28:42.723957Z",
     "iopub.status.busy": "2022-08-05T10:28:42.723556Z",
     "iopub.status.idle": "2022-08-05T10:28:43.002910Z",
     "shell.execute_reply": "2022-08-05T10:28:43.001860Z"
    },
    "papermill": {
     "duration": 0.306876,
     "end_time": "2022-08-05T10:28:43.005398",
     "exception": false,
     "start_time": "2022-08-05T10:28:42.698522",
     "status": "completed"
    },
    "tags": []
   },
   "outputs": [
    {
     "data": {
      "image/png": "[encoded data removed]",
      "text/plain": [
       "<Figure size 720x504 with 2 Axes>"
      ]
     },
     "metadata": {
      "needs_background": "light"
     },
     "output_type": "display_data"
    }
   ],
   "source": [
    "matrix=confusion_matrix(y_test,y_pred)\n",
    "plt.figure(figsize = (10,7))\n",
    "sn.heatmap(matrix,annot=True,fmt=\"d\")\n",
    "plt.xlabel(\"predicted\")\n",
    "plt.ylabel(\"actual\");"
   ]
  },
  {
   "cell_type": "code",
   "execution_count": 38,
   "id": "ae39e969",
   "metadata": {
    "execution": {
     "iopub.execute_input": "2022-08-05T10:28:43.057650Z",
     "iopub.status.busy": "2022-08-05T10:28:43.056577Z",
     "iopub.status.idle": "2022-08-05T10:28:43.070958Z",
     "shell.execute_reply": "2022-08-05T10:28:43.069165Z"
    },
    "papermill": {
     "duration": 0.043146,
     "end_time": "2022-08-05T10:28:43.073332",
     "exception": false,
     "start_time": "2022-08-05T10:28:43.030186",
     "status": "completed"
    },
    "tags": []
   },
   "outputs": [
    {
     "name": "stdout",
     "output_type": "stream",
     "text": [
      "              precision    recall  f1-score   support\n",
      "\n",
      "           0       0.83      0.89      0.86      1033\n",
      "           1       0.62      0.48      0.55       374\n",
      "\n",
      "    accuracy                           0.79      1407\n",
      "   macro avg       0.73      0.69      0.70      1407\n",
      "weighted avg       0.77      0.79      0.78      1407\n",
      "\n"
     ]
    }
   ],
   "source": [
    "print(classification_report(y_test,y_pred))"
   ]
  },
  {
   "cell_type": "code",
   "execution_count": 39,
   "id": "17733379",
   "metadata": {
    "execution": {
     "iopub.execute_input": "2022-08-05T10:28:43.125057Z",
     "iopub.status.busy": "2022-08-05T10:28:43.124212Z",
     "iopub.status.idle": "2022-08-05T10:28:43.134096Z",
     "shell.execute_reply": "2022-08-05T10:28:43.132698Z"
    },
    "papermill": {
     "duration": 0.038326,
     "end_time": "2022-08-05T10:28:43.136742",
     "exception": false,
     "start_time": "2022-08-05T10:28:43.098416",
     "status": "completed"
    },
    "tags": []
   },
   "outputs": [],
   "source": [
    "def ann(x_train,x_test,y_train,y_test):\n",
    "    \n",
    "    model=Sequential([\n",
    "    Dense(50,input_shape=(26,),activation=\"relu\"),\n",
    "    Dense(30,activation=\"relu\"),\n",
    "    Dense(1,activation=\"sigmoid\")])\n",
    "    \n",
    "    model.compile(optimizer=\"adam\",\n",
    "            loss=\"binary_crossentropy\",\n",
    "            metrics=[\"accuracy\"])\n",
    "    \n",
    "    model.fit(x_train,y_train,epochs=100)\n",
    "    \n",
    "    y_p=model.predict(x_test)\n",
    "    \n",
    "    y_pred=[]\n",
    "\n",
    "    for i in y_p:\n",
    "        if i>=0.5:\n",
    "            y_pred.append(1)\n",
    "        else:\n",
    "            y_pred.append(0)\n",
    "            \n",
    "    print(classification_report(y_test,y_pred))\n",
    "    "
   ]
  },
  {
   "cell_type": "code",
   "execution_count": 40,
   "id": "2de7ba2b",
   "metadata": {
    "execution": {
     "iopub.execute_input": "2022-08-05T10:28:43.187109Z",
     "iopub.status.busy": "2022-08-05T10:28:43.186595Z",
     "iopub.status.idle": "2022-08-05T10:28:43.197599Z",
     "shell.execute_reply": "2022-08-05T10:28:43.196297Z"
    },
    "papermill": {
     "duration": 0.039163,
     "end_time": "2022-08-05T10:28:43.200009",
     "exception": false,
     "start_time": "2022-08-05T10:28:43.160846",
     "status": "completed"
    },
    "tags": []
   },
   "outputs": [
    {
     "data": {
      "text/plain": [
       "0    5163\n",
       "1    1869\n",
       "Name: Churn, dtype: int64"
      ]
     },
     "execution_count": 40,
     "metadata": {},
     "output_type": "execute_result"
    }
   ],
   "source": [
    "churn_0_count,churn_1_count=data.Churn.value_counts()\n",
    "data.Churn.value_counts()"
   ]
  },
  {
   "cell_type": "markdown",
   "id": "407f809f",
   "metadata": {
    "papermill": {
     "duration": 0.02381,
     "end_time": "2022-08-05T10:28:43.247988",
     "exception": false,
     "start_time": "2022-08-05T10:28:43.224178",
     "status": "completed"
    },
    "tags": []
   },
   "source": [
    "**UNDER SAMPLING**"
   ]
  },
  {
   "cell_type": "code",
   "execution_count": 41,
   "id": "4fd7c503",
   "metadata": {
    "execution": {
     "iopub.execute_input": "2022-08-05T10:28:43.298165Z",
     "iopub.status.busy": "2022-08-05T10:28:43.297661Z",
     "iopub.status.idle": "2022-08-05T10:28:43.307307Z",
     "shell.execute_reply": "2022-08-05T10:28:43.306058Z"
    },
    "papermill": {
     "duration": 0.038252,
     "end_time": "2022-08-05T10:28:43.310225",
     "exception": false,
     "start_time": "2022-08-05T10:28:43.271973",
     "status": "completed"
    },
    "tags": []
   },
   "outputs": [],
   "source": [
    "churn_0 = data[data[\"Churn\"]==0]\n",
    "churn_1 = data[data[\"Churn\"]==1]"
   ]
  },
  {
   "cell_type": "code",
   "execution_count": 42,
   "id": "140366f1",
   "metadata": {
    "execution": {
     "iopub.execute_input": "2022-08-05T10:28:43.361349Z",
     "iopub.status.busy": "2022-08-05T10:28:43.360600Z",
     "iopub.status.idle": "2022-08-05T10:28:43.372573Z",
     "shell.execute_reply": "2022-08-05T10:28:43.371559Z"
    },
    "papermill": {
     "duration": 0.040455,
     "end_time": "2022-08-05T10:28:43.375086",
     "exception": false,
     "start_time": "2022-08-05T10:28:43.334631",
     "status": "completed"
    },
    "tags": []
   },
   "outputs": [],
   "source": [
    "data_0_under=churn_0.sample(churn_1_count)\n",
    "undersample_data=pd.concat([data_0_under,churn_1],axis=0)\n",
    "undersample_data.shape\n",
    "\n",
    "x=undersample_data.drop(\"Churn\",axis=1)\n",
    "y=undersample_data[\"Churn\"]"
   ]
  },
  {
   "cell_type": "code",
   "execution_count": 43,
   "id": "126220ed",
   "metadata": {
    "execution": {
     "iopub.execute_input": "2022-08-05T10:28:43.426422Z",
     "iopub.status.busy": "2022-08-05T10:28:43.425646Z",
     "iopub.status.idle": "2022-08-05T10:28:43.434958Z",
     "shell.execute_reply": "2022-08-05T10:28:43.433795Z"
    },
    "papermill": {
     "duration": 0.037958,
     "end_time": "2022-08-05T10:28:43.437605",
     "exception": false,
     "start_time": "2022-08-05T10:28:43.399647",
     "status": "completed"
    },
    "tags": []
   },
   "outputs": [],
   "source": [
    "x_train,x_test,y_train,y_test=train_test_split(x,y,test_size=0.2,stratify=y)"
   ]
  },
  {
   "cell_type": "code",
   "execution_count": 44,
   "id": "3ac16bcb",
   "metadata": {
    "execution": {
     "iopub.execute_input": "2022-08-05T10:28:43.488015Z",
     "iopub.status.busy": "2022-08-05T10:28:43.487540Z",
     "iopub.status.idle": "2022-08-05T10:28:43.495699Z",
     "shell.execute_reply": "2022-08-05T10:28:43.494852Z"
    },
    "papermill": {
     "duration": 0.036054,
     "end_time": "2022-08-05T10:28:43.497687",
     "exception": false,
     "start_time": "2022-08-05T10:28:43.461633",
     "status": "completed"
    },
    "tags": []
   },
   "outputs": [
    {
     "data": {
      "text/plain": [
       "1    1495\n",
       "0    1495\n",
       "Name: Churn, dtype: int64"
      ]
     },
     "execution_count": 44,
     "metadata": {},
     "output_type": "execute_result"
    }
   ],
   "source": [
    "y_train.value_counts()"
   ]
  },
  {
   "cell_type": "code",
   "execution_count": 45,
   "id": "f88d858f",
   "metadata": {
    "execution": {
     "iopub.execute_input": "2022-08-05T10:28:43.548623Z",
     "iopub.status.busy": "2022-08-05T10:28:43.547802Z",
     "iopub.status.idle": "2022-08-05T10:28:43.554254Z",
     "shell.execute_reply": "2022-08-05T10:28:43.553320Z"
    },
    "papermill": {
     "duration": 0.034744,
     "end_time": "2022-08-05T10:28:43.556655",
     "exception": false,
     "start_time": "2022-08-05T10:28:43.521911",
     "status": "completed"
    },
    "tags": []
   },
   "outputs": [
    {
     "data": {
      "text/plain": [
       "(2990, 26)"
      ]
     },
     "execution_count": 45,
     "metadata": {},
     "output_type": "execute_result"
    }
   ],
   "source": [
    "x_train.shape"
   ]
  },
  {
   "cell_type": "code",
   "execution_count": 46,
   "id": "07ae069b",
   "metadata": {
    "execution": {
     "iopub.execute_input": "2022-08-05T10:28:43.608947Z",
     "iopub.status.busy": "2022-08-05T10:28:43.608140Z",
     "iopub.status.idle": "2022-08-05T10:28:43.614963Z",
     "shell.execute_reply": "2022-08-05T10:28:43.613864Z"
    },
    "papermill": {
     "duration": 0.03605,
     "end_time": "2022-08-05T10:28:43.617222",
     "exception": false,
     "start_time": "2022-08-05T10:28:43.581172",
     "status": "completed"
    },
    "tags": []
   },
   "outputs": [
    {
     "data": {
      "text/plain": [
       "(2990,)"
      ]
     },
     "execution_count": 46,
     "metadata": {},
     "output_type": "execute_result"
    }
   ],
   "source": [
    "y_train.shape"
   ]
  },
  {
   "cell_type": "code",
   "execution_count": 47,
   "id": "8985cab5",
   "metadata": {
    "execution": {
     "iopub.execute_input": "2022-08-05T10:28:43.668960Z",
     "iopub.status.busy": "2022-08-05T10:28:43.668168Z",
     "iopub.status.idle": "2022-08-05T10:29:04.105404Z",
     "shell.execute_reply": "2022-08-05T10:29:04.103217Z"
    },
    "papermill": {
     "duration": 20.466259,
     "end_time": "2022-08-05T10:29:04.108264",
     "exception": false,
     "start_time": "2022-08-05T10:28:43.642005",
     "status": "completed"
    },
    "tags": []
   },
   "outputs": [
    {
     "name": "stdout",
     "output_type": "stream",
     "text": [
      "Epoch 1/100\n",
      "94/94 [==============================] - 1s 2ms/step - loss: 0.5734 - accuracy: 0.7137\n",
      "Epoch 2/100\n",
      "94/94 [==============================] - 0s 2ms/step - loss: 0.5030 - accuracy: 0.7656\n",
      "Epoch 3/100\n",
      "94/94 [==============================] - 0s 2ms/step - loss: 0.4895 - accuracy: 0.7652\n",
      "Epoch 4/100\n",
      "94/94 [==============================] - 0s 2ms/step - loss: 0.4858 - accuracy: 0.7696\n",
      "Epoch 5/100\n",
      "94/94 [==============================] - 0s 2ms/step - loss: 0.4806 - accuracy: 0.7706\n",
      "Epoch 6/100\n",
      "94/94 [==============================] - 0s 2ms/step - loss: 0.4779 - accuracy: 0.7676\n",
      "Epoch 7/100\n",
      "94/94 [==============================] - 0s 2ms/step - loss: 0.4746 - accuracy: 0.7712\n",
      "Epoch 8/100\n",
      "94/94 [==============================] - 0s 2ms/step - loss: 0.4723 - accuracy: 0.7702\n",
      "Epoch 9/100\n",
      "94/94 [==============================] - 0s 2ms/step - loss: 0.4698 - accuracy: 0.7719\n",
      "Epoch 10/100\n",
      "94/94 [==============================] - 0s 2ms/step - loss: 0.4683 - accuracy: 0.7732\n",
      "Epoch 11/100\n",
      "94/94 [==============================] - 0s 2ms/step - loss: 0.4664 - accuracy: 0.7769\n",
      "Epoch 12/100\n",
      "94/94 [==============================] - 0s 2ms/step - loss: 0.4620 - accuracy: 0.7763\n",
      "Epoch 13/100\n",
      "94/94 [==============================] - 0s 2ms/step - loss: 0.4605 - accuracy: 0.7756\n",
      "Epoch 14/100\n",
      "94/94 [==============================] - 0s 2ms/step - loss: 0.4580 - accuracy: 0.7826\n",
      "Epoch 15/100\n",
      "94/94 [==============================] - 0s 2ms/step - loss: 0.4550 - accuracy: 0.7833\n",
      "Epoch 16/100\n",
      "94/94 [==============================] - 0s 2ms/step - loss: 0.4537 - accuracy: 0.7806\n",
      "Epoch 17/100\n",
      "94/94 [==============================] - 0s 2ms/step - loss: 0.4504 - accuracy: 0.7880\n",
      "Epoch 18/100\n",
      "94/94 [==============================] - 0s 2ms/step - loss: 0.4477 - accuracy: 0.7873\n",
      "Epoch 19/100\n",
      "94/94 [==============================] - 0s 2ms/step - loss: 0.4466 - accuracy: 0.7836\n",
      "Epoch 20/100\n",
      "94/94 [==============================] - 0s 2ms/step - loss: 0.4442 - accuracy: 0.7890\n",
      "Epoch 21/100\n",
      "94/94 [==============================] - 0s 2ms/step - loss: 0.4448 - accuracy: 0.7843\n",
      "Epoch 22/100\n",
      "94/94 [==============================] - 0s 2ms/step - loss: 0.4410 - accuracy: 0.7913\n",
      "Epoch 23/100\n",
      "94/94 [==============================] - 0s 2ms/step - loss: 0.4413 - accuracy: 0.7839\n",
      "Epoch 24/100\n",
      "94/94 [==============================] - 0s 2ms/step - loss: 0.4367 - accuracy: 0.7953\n",
      "Epoch 25/100\n",
      "94/94 [==============================] - 0s 2ms/step - loss: 0.4367 - accuracy: 0.7983\n",
      "Epoch 26/100\n",
      "94/94 [==============================] - 0s 2ms/step - loss: 0.4326 - accuracy: 0.7990\n",
      "Epoch 27/100\n",
      "94/94 [==============================] - 0s 2ms/step - loss: 0.4313 - accuracy: 0.7997\n",
      "Epoch 28/100\n",
      "94/94 [==============================] - 0s 2ms/step - loss: 0.4311 - accuracy: 0.7977\n",
      "Epoch 29/100\n",
      "94/94 [==============================] - 0s 2ms/step - loss: 0.4259 - accuracy: 0.7983\n",
      "Epoch 30/100\n",
      "94/94 [==============================] - 0s 2ms/step - loss: 0.4257 - accuracy: 0.8023\n",
      "Epoch 31/100\n",
      "94/94 [==============================] - 0s 2ms/step - loss: 0.4220 - accuracy: 0.8033\n",
      "Epoch 32/100\n",
      "94/94 [==============================] - 0s 2ms/step - loss: 0.4199 - accuracy: 0.8060\n",
      "Epoch 33/100\n",
      "94/94 [==============================] - 0s 2ms/step - loss: 0.4165 - accuracy: 0.8054\n",
      "Epoch 34/100\n",
      "94/94 [==============================] - 0s 2ms/step - loss: 0.4171 - accuracy: 0.8064\n",
      "Epoch 35/100\n",
      "94/94 [==============================] - 0s 2ms/step - loss: 0.4145 - accuracy: 0.8094\n",
      "Epoch 36/100\n",
      "94/94 [==============================] - 0s 2ms/step - loss: 0.4125 - accuracy: 0.8094\n",
      "Epoch 37/100\n",
      "94/94 [==============================] - 0s 2ms/step - loss: 0.4110 - accuracy: 0.8050\n",
      "Epoch 38/100\n",
      "94/94 [==============================] - 0s 2ms/step - loss: 0.4141 - accuracy: 0.8057\n",
      "Epoch 39/100\n",
      "94/94 [==============================] - 0s 2ms/step - loss: 0.4084 - accuracy: 0.8130\n",
      "Epoch 40/100\n",
      "94/94 [==============================] - 0s 2ms/step - loss: 0.4039 - accuracy: 0.8127\n",
      "Epoch 41/100\n",
      "94/94 [==============================] - 0s 2ms/step - loss: 0.4037 - accuracy: 0.8194\n",
      "Epoch 42/100\n",
      "94/94 [==============================] - 0s 2ms/step - loss: 0.3998 - accuracy: 0.8151\n",
      "Epoch 43/100\n",
      "94/94 [==============================] - 0s 2ms/step - loss: 0.3999 - accuracy: 0.8161\n",
      "Epoch 44/100\n",
      "94/94 [==============================] - 0s 2ms/step - loss: 0.4010 - accuracy: 0.8147\n",
      "Epoch 45/100\n",
      "94/94 [==============================] - 0s 2ms/step - loss: 0.3941 - accuracy: 0.8177\n",
      "Epoch 46/100\n",
      "94/94 [==============================] - 0s 2ms/step - loss: 0.3929 - accuracy: 0.8184\n",
      "Epoch 47/100\n",
      "94/94 [==============================] - 0s 2ms/step - loss: 0.3905 - accuracy: 0.8244\n",
      "Epoch 48/100\n",
      "94/94 [==============================] - 0s 2ms/step - loss: 0.3904 - accuracy: 0.8214\n",
      "Epoch 49/100\n",
      "94/94 [==============================] - 0s 2ms/step - loss: 0.3842 - accuracy: 0.8268\n",
      "Epoch 50/100\n",
      "94/94 [==============================] - 0s 2ms/step - loss: 0.3830 - accuracy: 0.8304\n",
      "Epoch 51/100\n",
      "94/94 [==============================] - 0s 2ms/step - loss: 0.3814 - accuracy: 0.8301\n",
      "Epoch 52/100\n",
      "94/94 [==============================] - 0s 2ms/step - loss: 0.3786 - accuracy: 0.8261\n",
      "Epoch 53/100\n",
      "94/94 [==============================] - 0s 2ms/step - loss: 0.3778 - accuracy: 0.8338\n",
      "Epoch 54/100\n",
      "94/94 [==============================] - 0s 3ms/step - loss: 0.3778 - accuracy: 0.8355\n",
      "Epoch 55/100\n",
      "94/94 [==============================] - 0s 3ms/step - loss: 0.3730 - accuracy: 0.8284\n",
      "Epoch 56/100\n",
      "94/94 [==============================] - 0s 3ms/step - loss: 0.3756 - accuracy: 0.8281\n",
      "Epoch 57/100\n",
      "94/94 [==============================] - 0s 2ms/step - loss: 0.3721 - accuracy: 0.8328\n",
      "Epoch 58/100\n",
      "94/94 [==============================] - 0s 2ms/step - loss: 0.3721 - accuracy: 0.8341\n",
      "Epoch 59/100\n",
      "94/94 [==============================] - 0s 2ms/step - loss: 0.3657 - accuracy: 0.8371\n",
      "Epoch 60/100\n",
      "94/94 [==============================] - 0s 2ms/step - loss: 0.3655 - accuracy: 0.8378\n",
      "Epoch 61/100\n",
      "94/94 [==============================] - 0s 2ms/step - loss: 0.3639 - accuracy: 0.8411\n",
      "Epoch 62/100\n",
      "94/94 [==============================] - 0s 2ms/step - loss: 0.3634 - accuracy: 0.8341\n",
      "Epoch 63/100\n",
      "94/94 [==============================] - 0s 2ms/step - loss: 0.3571 - accuracy: 0.8408\n",
      "Epoch 64/100\n",
      "94/94 [==============================] - 0s 2ms/step - loss: 0.3530 - accuracy: 0.8421\n",
      "Epoch 65/100\n",
      "94/94 [==============================] - 0s 2ms/step - loss: 0.3484 - accuracy: 0.8485\n",
      "Epoch 66/100\n",
      "94/94 [==============================] - 0s 3ms/step - loss: 0.3539 - accuracy: 0.8452\n",
      "Epoch 67/100\n",
      "94/94 [==============================] - 0s 2ms/step - loss: 0.3499 - accuracy: 0.8438\n",
      "Epoch 68/100\n",
      "94/94 [==============================] - 0s 2ms/step - loss: 0.3484 - accuracy: 0.8431\n",
      "Epoch 69/100\n",
      "94/94 [==============================] - 0s 2ms/step - loss: 0.3454 - accuracy: 0.8472\n",
      "Epoch 70/100\n",
      "94/94 [==============================] - 0s 2ms/step - loss: 0.3437 - accuracy: 0.8492\n",
      "Epoch 71/100\n",
      "94/94 [==============================] - 0s 2ms/step - loss: 0.3390 - accuracy: 0.8505\n",
      "Epoch 72/100\n",
      "94/94 [==============================] - 0s 2ms/step - loss: 0.3349 - accuracy: 0.8559\n",
      "Epoch 73/100\n",
      "94/94 [==============================] - 0s 2ms/step - loss: 0.3368 - accuracy: 0.8492\n",
      "Epoch 74/100\n",
      "94/94 [==============================] - 0s 2ms/step - loss: 0.3365 - accuracy: 0.8502\n",
      "Epoch 75/100\n",
      "94/94 [==============================] - 0s 2ms/step - loss: 0.3288 - accuracy: 0.8535\n",
      "Epoch 76/100\n",
      "94/94 [==============================] - 0s 2ms/step - loss: 0.3295 - accuracy: 0.8498\n",
      "Epoch 77/100\n",
      "94/94 [==============================] - 0s 2ms/step - loss: 0.3239 - accuracy: 0.8585\n",
      "Epoch 78/100\n",
      "94/94 [==============================] - 0s 2ms/step - loss: 0.3257 - accuracy: 0.8589\n",
      "Epoch 79/100\n",
      "94/94 [==============================] - 0s 2ms/step - loss: 0.3238 - accuracy: 0.8609\n",
      "Epoch 80/100\n",
      "94/94 [==============================] - 0s 2ms/step - loss: 0.3179 - accuracy: 0.8625\n",
      "Epoch 81/100\n",
      "94/94 [==============================] - 0s 2ms/step - loss: 0.3211 - accuracy: 0.8609\n",
      "Epoch 82/100\n",
      "94/94 [==============================] - 0s 2ms/step - loss: 0.3203 - accuracy: 0.8652\n",
      "Epoch 83/100\n",
      "94/94 [==============================] - 0s 2ms/step - loss: 0.3120 - accuracy: 0.8686\n",
      "Epoch 84/100\n",
      "94/94 [==============================] - 0s 2ms/step - loss: 0.3140 - accuracy: 0.8672\n",
      "Epoch 85/100\n",
      "94/94 [==============================] - 0s 2ms/step - loss: 0.3094 - accuracy: 0.8692\n",
      "Epoch 86/100\n",
      "94/94 [==============================] - 0s 2ms/step - loss: 0.3059 - accuracy: 0.8732\n",
      "Epoch 87/100\n",
      "94/94 [==============================] - 0s 2ms/step - loss: 0.3085 - accuracy: 0.8722\n",
      "Epoch 88/100\n",
      "94/94 [==============================] - 0s 2ms/step - loss: 0.3046 - accuracy: 0.8739\n",
      "Epoch 89/100\n",
      "94/94 [==============================] - 0s 2ms/step - loss: 0.3035 - accuracy: 0.8709\n",
      "Epoch 90/100\n",
      "94/94 [==============================] - 0s 2ms/step - loss: 0.3098 - accuracy: 0.8649\n",
      "Epoch 91/100\n",
      "94/94 [==============================] - 0s 2ms/step - loss: 0.2979 - accuracy: 0.8753\n",
      "Epoch 92/100\n",
      "94/94 [==============================] - 0s 2ms/step - loss: 0.2943 - accuracy: 0.8809\n",
      "Epoch 93/100\n",
      "94/94 [==============================] - 0s 2ms/step - loss: 0.2984 - accuracy: 0.8773\n",
      "Epoch 94/100\n",
      "94/94 [==============================] - 0s 2ms/step - loss: 0.2925 - accuracy: 0.8763\n",
      "Epoch 95/100\n",
      "94/94 [==============================] - 0s 2ms/step - loss: 0.2964 - accuracy: 0.8796\n",
      "Epoch 96/100\n",
      "94/94 [==============================] - 0s 2ms/step - loss: 0.2925 - accuracy: 0.8786\n",
      "Epoch 97/100\n",
      "94/94 [==============================] - 0s 2ms/step - loss: 0.2891 - accuracy: 0.8823\n",
      "Epoch 98/100\n",
      "94/94 [==============================] - 0s 2ms/step - loss: 0.2852 - accuracy: 0.8846\n",
      "Epoch 99/100\n",
      "94/94 [==============================] - 0s 2ms/step - loss: 0.2853 - accuracy: 0.8803\n",
      "Epoch 100/100\n",
      "94/94 [==============================] - 0s 2ms/step - loss: 0.2819 - accuracy: 0.8833\n",
      "              precision    recall  f1-score   support\n",
      "\n",
      "           0       0.71      0.73      0.72       374\n",
      "           1       0.72      0.70      0.71       374\n",
      "\n",
      "    accuracy                           0.71       748\n",
      "   macro avg       0.71      0.71      0.71       748\n",
      "weighted avg       0.71      0.71      0.71       748\n",
      "\n"
     ]
    }
   ],
   "source": [
    "ann(x_train,x_test,y_train,y_test)"
   ]
  },
  {
   "cell_type": "markdown",
   "id": "285b5c0d",
   "metadata": {
    "papermill": {
     "duration": 0.055664,
     "end_time": "2022-08-05T10:29:04.222026",
     "exception": false,
     "start_time": "2022-08-05T10:29:04.166362",
     "status": "completed"
    },
    "tags": []
   },
   "source": [
    "# **OVER SAMPLING WITH SMOTE**"
   ]
  },
  {
   "cell_type": "code",
   "execution_count": 48,
   "id": "ad3329d4",
   "metadata": {
    "execution": {
     "iopub.execute_input": "2022-08-05T10:29:04.336077Z",
     "iopub.status.busy": "2022-08-05T10:29:04.334822Z",
     "iopub.status.idle": "2022-08-05T10:29:04.343880Z",
     "shell.execute_reply": "2022-08-05T10:29:04.342566Z"
    },
    "papermill": {
     "duration": 0.0689,
     "end_time": "2022-08-05T10:29:04.346502",
     "exception": false,
     "start_time": "2022-08-05T10:29:04.277602",
     "status": "completed"
    },
    "tags": []
   },
   "outputs": [],
   "source": [
    "x=data.drop(\"Churn\",axis=1)\n",
    "y=data[\"Churn\"]"
   ]
  },
  {
   "cell_type": "code",
   "execution_count": 49,
   "id": "801c8f04",
   "metadata": {
    "execution": {
     "iopub.execute_input": "2022-08-05T10:29:04.464951Z",
     "iopub.status.busy": "2022-08-05T10:29:04.463718Z",
     "iopub.status.idle": "2022-08-05T10:29:05.044319Z",
     "shell.execute_reply": "2022-08-05T10:29:05.043167Z"
    },
    "papermill": {
     "duration": 0.644214,
     "end_time": "2022-08-05T10:29:05.047061",
     "exception": false,
     "start_time": "2022-08-05T10:29:04.402847",
     "status": "completed"
    },
    "tags": []
   },
   "outputs": [],
   "source": [
    "from imblearn.over_sampling import SMOTE\n",
    "\n",
    "smot=SMOTE()\n",
    "x_sm,y_sm = smot.fit_resample(x,y)"
   ]
  },
  {
   "cell_type": "code",
   "execution_count": 50,
   "id": "76385668",
   "metadata": {
    "execution": {
     "iopub.execute_input": "2022-08-05T10:29:05.163280Z",
     "iopub.status.busy": "2022-08-05T10:29:05.162283Z",
     "iopub.status.idle": "2022-08-05T10:29:05.171972Z",
     "shell.execute_reply": "2022-08-05T10:29:05.170724Z"
    },
    "papermill": {
     "duration": 0.070325,
     "end_time": "2022-08-05T10:29:05.174117",
     "exception": false,
     "start_time": "2022-08-05T10:29:05.103792",
     "status": "completed"
    },
    "tags": []
   },
   "outputs": [
    {
     "data": {
      "text/plain": [
       "0    5163\n",
       "1    5163\n",
       "Name: Churn, dtype: int64"
      ]
     },
     "execution_count": 50,
     "metadata": {},
     "output_type": "execute_result"
    }
   ],
   "source": [
    "y_sm.value_counts()"
   ]
  },
  {
   "cell_type": "code",
   "execution_count": 51,
   "id": "e3137c6c",
   "metadata": {
    "execution": {
     "iopub.execute_input": "2022-08-05T10:29:05.288086Z",
     "iopub.status.busy": "2022-08-05T10:29:05.287436Z",
     "iopub.status.idle": "2022-08-05T10:29:05.300355Z",
     "shell.execute_reply": "2022-08-05T10:29:05.299556Z"
    },
    "papermill": {
     "duration": 0.072913,
     "end_time": "2022-08-05T10:29:05.302735",
     "exception": false,
     "start_time": "2022-08-05T10:29:05.229822",
     "status": "completed"
    },
    "tags": []
   },
   "outputs": [],
   "source": [
    "x_train,x_test,y_train,y_test=train_test_split(x_sm,y_sm,test_size=0.2,stratify=y_sm)"
   ]
  },
  {
   "cell_type": "code",
   "execution_count": 52,
   "id": "638e57da",
   "metadata": {
    "execution": {
     "iopub.execute_input": "2022-08-05T10:29:05.416518Z",
     "iopub.status.busy": "2022-08-05T10:29:05.415924Z",
     "iopub.status.idle": "2022-08-05T10:29:59.118104Z",
     "shell.execute_reply": "2022-08-05T10:29:59.116847Z"
    },
    "papermill": {
     "duration": 53.763037,
     "end_time": "2022-08-05T10:29:59.121549",
     "exception": false,
     "start_time": "2022-08-05T10:29:05.358512",
     "status": "completed"
    },
    "tags": []
   },
   "outputs": [
    {
     "name": "stdout",
     "output_type": "stream",
     "text": [
      "Epoch 1/100\n",
      "259/259 [==============================] - 1s 2ms/step - loss: 0.5030 - accuracy: 0.7608\n",
      "Epoch 2/100\n",
      "259/259 [==============================] - 0s 2ms/step - loss: 0.4663 - accuracy: 0.7743\n",
      "Epoch 3/100\n",
      "259/259 [==============================] - 1s 2ms/step - loss: 0.4576 - accuracy: 0.7789\n",
      "Epoch 4/100\n",
      "259/259 [==============================] - 1s 3ms/step - loss: 0.4502 - accuracy: 0.7835\n",
      "Epoch 5/100\n",
      "259/259 [==============================] - 1s 2ms/step - loss: 0.4448 - accuracy: 0.7863\n",
      "Epoch 6/100\n",
      "259/259 [==============================] - 1s 2ms/step - loss: 0.4368 - accuracy: 0.7931\n",
      "Epoch 7/100\n",
      "259/259 [==============================] - 1s 2ms/step - loss: 0.4303 - accuracy: 0.7982\n",
      "Epoch 8/100\n",
      "259/259 [==============================] - 1s 2ms/step - loss: 0.4258 - accuracy: 0.7975\n",
      "Epoch 9/100\n",
      "259/259 [==============================] - 1s 2ms/step - loss: 0.4187 - accuracy: 0.8064\n",
      "Epoch 10/100\n",
      "259/259 [==============================] - 1s 2ms/step - loss: 0.4139 - accuracy: 0.8058\n",
      "Epoch 11/100\n",
      "259/259 [==============================] - 1s 2ms/step - loss: 0.4085 - accuracy: 0.8133\n",
      "Epoch 12/100\n",
      "259/259 [==============================] - 1s 2ms/step - loss: 0.4049 - accuracy: 0.8108\n",
      "Epoch 13/100\n",
      "259/259 [==============================] - 1s 2ms/step - loss: 0.3984 - accuracy: 0.8195\n",
      "Epoch 14/100\n",
      "259/259 [==============================] - 1s 2ms/step - loss: 0.3947 - accuracy: 0.8212\n",
      "Epoch 15/100\n",
      "259/259 [==============================] - 1s 2ms/step - loss: 0.3899 - accuracy: 0.8225\n",
      "Epoch 16/100\n",
      "259/259 [==============================] - 1s 2ms/step - loss: 0.3868 - accuracy: 0.8222\n",
      "Epoch 17/100\n",
      "259/259 [==============================] - 1s 2ms/step - loss: 0.3840 - accuracy: 0.8236\n",
      "Epoch 18/100\n",
      "259/259 [==============================] - 1s 2ms/step - loss: 0.3802 - accuracy: 0.8285\n",
      "Epoch 19/100\n",
      "259/259 [==============================] - 1s 2ms/step - loss: 0.3765 - accuracy: 0.8282\n",
      "Epoch 20/100\n",
      "259/259 [==============================] - 1s 2ms/step - loss: 0.3724 - accuracy: 0.8317\n",
      "Epoch 21/100\n",
      "259/259 [==============================] - 0s 2ms/step - loss: 0.3723 - accuracy: 0.8320\n",
      "Epoch 22/100\n",
      "259/259 [==============================] - 1s 2ms/step - loss: 0.3685 - accuracy: 0.8383\n",
      "Epoch 23/100\n",
      "259/259 [==============================] - 1s 2ms/step - loss: 0.3675 - accuracy: 0.8390\n",
      "Epoch 24/100\n",
      "259/259 [==============================] - 1s 2ms/step - loss: 0.3648 - accuracy: 0.8375\n",
      "Epoch 25/100\n",
      "259/259 [==============================] - 1s 2ms/step - loss: 0.3627 - accuracy: 0.8389\n",
      "Epoch 26/100\n",
      "259/259 [==============================] - 0s 2ms/step - loss: 0.3588 - accuracy: 0.8390\n",
      "Epoch 27/100\n",
      "259/259 [==============================] - 0s 2ms/step - loss: 0.3576 - accuracy: 0.8413\n",
      "Epoch 28/100\n",
      "259/259 [==============================] - 0s 2ms/step - loss: 0.3571 - accuracy: 0.8432\n",
      "Epoch 29/100\n",
      "259/259 [==============================] - 1s 2ms/step - loss: 0.3513 - accuracy: 0.8429\n",
      "Epoch 30/100\n",
      "259/259 [==============================] - 0s 2ms/step - loss: 0.3549 - accuracy: 0.8398\n",
      "Epoch 31/100\n",
      "259/259 [==============================] - 1s 2ms/step - loss: 0.3508 - accuracy: 0.8449\n",
      "Epoch 32/100\n",
      "259/259 [==============================] - 1s 2ms/step - loss: 0.3495 - accuracy: 0.8478\n",
      "Epoch 33/100\n",
      "259/259 [==============================] - 1s 2ms/step - loss: 0.3445 - accuracy: 0.8483\n",
      "Epoch 34/100\n",
      "259/259 [==============================] - 1s 2ms/step - loss: 0.3429 - accuracy: 0.8476\n",
      "Epoch 35/100\n",
      "259/259 [==============================] - 1s 2ms/step - loss: 0.3430 - accuracy: 0.8505\n",
      "Epoch 36/100\n",
      "259/259 [==============================] - 1s 2ms/step - loss: 0.3409 - accuracy: 0.8510\n",
      "Epoch 37/100\n",
      "259/259 [==============================] - 0s 2ms/step - loss: 0.3400 - accuracy: 0.8504\n",
      "Epoch 38/100\n",
      "259/259 [==============================] - 1s 2ms/step - loss: 0.3378 - accuracy: 0.8519\n",
      "Epoch 39/100\n",
      "259/259 [==============================] - 0s 2ms/step - loss: 0.3376 - accuracy: 0.8529\n",
      "Epoch 40/100\n",
      "259/259 [==============================] - 1s 3ms/step - loss: 0.3324 - accuracy: 0.8558\n",
      "Epoch 41/100\n",
      "259/259 [==============================] - 1s 3ms/step - loss: 0.3329 - accuracy: 0.8531\n",
      "Epoch 42/100\n",
      "259/259 [==============================] - 1s 2ms/step - loss: 0.3337 - accuracy: 0.8492\n",
      "Epoch 43/100\n",
      "259/259 [==============================] - 0s 2ms/step - loss: 0.3348 - accuracy: 0.8517\n",
      "Epoch 44/100\n",
      "259/259 [==============================] - 0s 2ms/step - loss: 0.3298 - accuracy: 0.8562\n",
      "Epoch 45/100\n",
      "259/259 [==============================] - 1s 2ms/step - loss: 0.3268 - accuracy: 0.8587\n",
      "Epoch 46/100\n",
      "259/259 [==============================] - 0s 2ms/step - loss: 0.3287 - accuracy: 0.8536\n",
      "Epoch 47/100\n",
      "259/259 [==============================] - 0s 2ms/step - loss: 0.3239 - accuracy: 0.8590\n",
      "Epoch 48/100\n",
      "259/259 [==============================] - 1s 2ms/step - loss: 0.3228 - accuracy: 0.8592\n",
      "Epoch 49/100\n",
      "259/259 [==============================] - 0s 2ms/step - loss: 0.3231 - accuracy: 0.8570\n",
      "Epoch 50/100\n",
      "259/259 [==============================] - 0s 2ms/step - loss: 0.3198 - accuracy: 0.8592\n",
      "Epoch 51/100\n",
      "259/259 [==============================] - 0s 2ms/step - loss: 0.3232 - accuracy: 0.8617\n",
      "Epoch 52/100\n",
      "259/259 [==============================] - 0s 2ms/step - loss: 0.3161 - accuracy: 0.8649\n",
      "Epoch 53/100\n",
      "259/259 [==============================] - 1s 2ms/step - loss: 0.3166 - accuracy: 0.8628\n",
      "Epoch 54/100\n",
      "259/259 [==============================] - 1s 2ms/step - loss: 0.3162 - accuracy: 0.8600\n",
      "Epoch 55/100\n",
      "259/259 [==============================] - 1s 2ms/step - loss: 0.3158 - accuracy: 0.8625\n",
      "Epoch 56/100\n",
      "259/259 [==============================] - 1s 2ms/step - loss: 0.3158 - accuracy: 0.8599\n",
      "Epoch 57/100\n",
      "259/259 [==============================] - 0s 2ms/step - loss: 0.3102 - accuracy: 0.8659\n",
      "Epoch 58/100\n",
      "259/259 [==============================] - 0s 2ms/step - loss: 0.3146 - accuracy: 0.8611\n",
      "Epoch 59/100\n",
      "259/259 [==============================] - 0s 2ms/step - loss: 0.3088 - accuracy: 0.8662\n",
      "Epoch 60/100\n",
      "259/259 [==============================] - 1s 2ms/step - loss: 0.3149 - accuracy: 0.8633\n",
      "Epoch 61/100\n",
      "259/259 [==============================] - 0s 2ms/step - loss: 0.3060 - accuracy: 0.8656\n",
      "Epoch 62/100\n",
      "259/259 [==============================] - 0s 2ms/step - loss: 0.3048 - accuracy: 0.8689\n",
      "Epoch 63/100\n",
      "259/259 [==============================] - 1s 2ms/step - loss: 0.3069 - accuracy: 0.8657\n",
      "Epoch 64/100\n",
      "259/259 [==============================] - 1s 2ms/step - loss: 0.3063 - accuracy: 0.8655\n",
      "Epoch 65/100\n",
      "259/259 [==============================] - 1s 2ms/step - loss: 0.3014 - accuracy: 0.8715\n",
      "Epoch 66/100\n",
      "259/259 [==============================] - 1s 2ms/step - loss: 0.3029 - accuracy: 0.8685\n",
      "Epoch 67/100\n",
      "259/259 [==============================] - 1s 2ms/step - loss: 0.3030 - accuracy: 0.8667\n",
      "Epoch 68/100\n",
      "259/259 [==============================] - 1s 2ms/step - loss: 0.3035 - accuracy: 0.8680\n",
      "Epoch 69/100\n",
      "259/259 [==============================] - 1s 2ms/step - loss: 0.2988 - accuracy: 0.8714\n",
      "Epoch 70/100\n",
      "259/259 [==============================] - 1s 2ms/step - loss: 0.2986 - accuracy: 0.8715\n",
      "Epoch 71/100\n",
      "259/259 [==============================] - 1s 2ms/step - loss: 0.2986 - accuracy: 0.8715\n",
      "Epoch 72/100\n",
      "259/259 [==============================] - 1s 2ms/step - loss: 0.2986 - accuracy: 0.8723\n",
      "Epoch 73/100\n",
      "259/259 [==============================] - 1s 2ms/step - loss: 0.2947 - accuracy: 0.8709\n",
      "Epoch 74/100\n",
      "259/259 [==============================] - 1s 2ms/step - loss: 0.2944 - accuracy: 0.8732\n",
      "Epoch 75/100\n",
      "259/259 [==============================] - 1s 2ms/step - loss: 0.2968 - accuracy: 0.8734\n",
      "Epoch 76/100\n",
      "259/259 [==============================] - 1s 2ms/step - loss: 0.2948 - accuracy: 0.8724\n",
      "Epoch 77/100\n",
      "259/259 [==============================] - 1s 2ms/step - loss: 0.2924 - accuracy: 0.8742\n",
      "Epoch 78/100\n",
      "259/259 [==============================] - 1s 2ms/step - loss: 0.2917 - accuracy: 0.8734\n",
      "Epoch 79/100\n",
      "259/259 [==============================] - 1s 2ms/step - loss: 0.2891 - accuracy: 0.8738\n",
      "Epoch 80/100\n",
      "259/259 [==============================] - 1s 2ms/step - loss: 0.2883 - accuracy: 0.8775\n",
      "Epoch 81/100\n",
      "259/259 [==============================] - 1s 2ms/step - loss: 0.2850 - accuracy: 0.8783\n",
      "Epoch 82/100\n",
      "259/259 [==============================] - 1s 2ms/step - loss: 0.2868 - accuracy: 0.8770\n",
      "Epoch 83/100\n",
      "259/259 [==============================] - 0s 2ms/step - loss: 0.2856 - accuracy: 0.8774\n",
      "Epoch 84/100\n",
      "259/259 [==============================] - 0s 2ms/step - loss: 0.2852 - accuracy: 0.8772\n",
      "Epoch 85/100\n",
      "259/259 [==============================] - 0s 2ms/step - loss: 0.2863 - accuracy: 0.8755\n",
      "Epoch 86/100\n",
      "259/259 [==============================] - 0s 2ms/step - loss: 0.2856 - accuracy: 0.8774\n",
      "Epoch 87/100\n",
      "259/259 [==============================] - 0s 2ms/step - loss: 0.2821 - accuracy: 0.8805\n",
      "Epoch 88/100\n",
      "259/259 [==============================] - 1s 2ms/step - loss: 0.2825 - accuracy: 0.8789\n",
      "Epoch 89/100\n",
      "259/259 [==============================] - 1s 2ms/step - loss: 0.2782 - accuracy: 0.8823\n",
      "Epoch 90/100\n",
      "259/259 [==============================] - 0s 2ms/step - loss: 0.2845 - accuracy: 0.8789\n",
      "Epoch 91/100\n",
      "259/259 [==============================] - 1s 2ms/step - loss: 0.2882 - accuracy: 0.8777\n",
      "Epoch 92/100\n",
      "259/259 [==============================] - 0s 2ms/step - loss: 0.2780 - accuracy: 0.8812\n",
      "Epoch 93/100\n",
      "259/259 [==============================] - 1s 2ms/step - loss: 0.2794 - accuracy: 0.8799\n",
      "Epoch 94/100\n",
      "259/259 [==============================] - 1s 2ms/step - loss: 0.2769 - accuracy: 0.8801\n",
      "Epoch 95/100\n",
      "259/259 [==============================] - 1s 2ms/step - loss: 0.2747 - accuracy: 0.8843\n",
      "Epoch 96/100\n",
      "259/259 [==============================] - 1s 2ms/step - loss: 0.2785 - accuracy: 0.8787\n",
      "Epoch 97/100\n",
      "259/259 [==============================] - 1s 2ms/step - loss: 0.2777 - accuracy: 0.8828\n",
      "Epoch 98/100\n",
      "259/259 [==============================] - 0s 2ms/step - loss: 0.2785 - accuracy: 0.8787\n",
      "Epoch 99/100\n",
      "259/259 [==============================] - 1s 2ms/step - loss: 0.2740 - accuracy: 0.8816\n",
      "Epoch 100/100\n",
      "259/259 [==============================] - 0s 2ms/step - loss: 0.2722 - accuracy: 0.8833\n",
      "              precision    recall  f1-score   support\n",
      "\n",
      "           0       0.89      0.76      0.82      1033\n",
      "           1       0.79      0.90      0.84      1033\n",
      "\n",
      "    accuracy                           0.83      2066\n",
      "   macro avg       0.84      0.83      0.83      2066\n",
      "weighted avg       0.84      0.83      0.83      2066\n",
      "\n"
     ]
    }
   ],
   "source": [
    "ann(x_train,x_test,y_train,y_test)"
   ]
  },
  {
   "cell_type": "markdown",
   "id": "cb8f9266",
   "metadata": {
    "papermill": {
     "duration": 0.145631,
     "end_time": "2022-08-05T10:29:59.412884",
     "exception": false,
     "start_time": "2022-08-05T10:29:59.267253",
     "status": "completed"
    },
    "tags": []
   },
   "source": [
    "**f1-score** improved to **0.80 and 0.82**"
   ]
  },
  {
   "cell_type": "code",
   "execution_count": null,
   "id": "196b6975",
   "metadata": {
    "papermill": {
     "duration": 0.129738,
     "end_time": "2022-08-05T10:29:59.672589",
     "exception": false,
     "start_time": "2022-08-05T10:29:59.542851",
     "status": "completed"
    },
    "tags": []
   },
   "outputs": [],
   "source": []
  }
 ],
 "metadata": {
  "kernelspec": {
   "display_name": "Python 3",
   "language": "python",
   "name": "python3"
  },
  "language_info": {
   "codemirror_mode": {
    "name": "ipython",
    "version": 3
   },
   "file_extension": ".py",
   "mimetype": "text/x-python",
   "name": "python",
   "nbconvert_exporter": "python",
   "pygments_lexer": "ipython3",
   "version": "3.7.12"
  },
  "papermill": {
   "default_parameters": {},
   "duration": 107.762935,
   "end_time": "2022-08-05T10:30:03.157857",
   "environment_variables": {},
   "exception": null,
   "input_path": "__notebook__.ipynb",
   "output_path": "__notebook__.ipynb",
   "parameters": {},
   "start_time": "2022-08-05T10:28:15.394922",
   "version": "2.3.4"
  }
 },
 "nbformat": 4,
 "nbformat_minor": 5
}
